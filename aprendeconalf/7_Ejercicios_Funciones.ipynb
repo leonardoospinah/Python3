{
  "nbformat": 4,
  "nbformat_minor": 0,
  "metadata": {
    "colab": {
      "name": "7_Ejercicios_Funciones.ipynb",
      "provenance": [],
      "authorship_tag": "ABX9TyP8BbfyucqvpXkVHYL84LDk",
      "include_colab_link": true
    },
    "kernelspec": {
      "name": "python3",
      "display_name": "Python 3"
    },
    "language_info": {
      "name": "python"
    }
  },
  "cells": [
    {
      "cell_type": "markdown",
      "metadata": {
        "id": "view-in-github",
        "colab_type": "text"
      },
      "source": [
        "<a href=\"https://colab.research.google.com/github/leonardoospinah/Python3/blob/main/7_Ejercicios_Funciones.ipynb\" target=\"_parent\"><img src=\"https://colab.research.google.com/assets/colab-badge.svg\" alt=\"Open In Colab\"/></a>"
      ]
    },
    {
      "cell_type": "markdown",
      "source": [
        "# ***Ejercicio 1***\n",
        "Escribir una función que muestre por pantalla el saludo ¡Hola amiga! cada vez que se la invoque."
      ],
      "metadata": {
        "id": "efKH-6SXZVtO"
      }
    },
    {
      "cell_type": "code",
      "execution_count": null,
      "metadata": {
        "colab": {
          "base_uri": "https://localhost:8080/"
        },
        "id": "KiUMBn0qZHEU",
        "outputId": "b4e1d986-2266-4d53-c71e-d39cbb620c36"
      },
      "outputs": [
        {
          "output_type": "stream",
          "name": "stdout",
          "text": [
            "Hola amiga!\n"
          ]
        }
      ],
      "source": [
        "def saludo ():\n",
        "  '''Función que muestra la frase \"Hola amiga\"'''\n",
        "  print(\"Hola amiga!\")\n",
        "  return\n",
        "\n",
        "saludo()"
      ]
    },
    {
      "cell_type": "markdown",
      "source": [
        "# ***Ejercicio 2***\n",
        "Escribir una función a la que se le pase una cadena `<nombre>` y muestre por pantalla el saludo `¡hola <nombre>!.`"
      ],
      "metadata": {
        "id": "rDguuVi2Z80z"
      }
    },
    {
      "cell_type": "code",
      "source": [
        "def saludo_con_nombre (nombre):\n",
        "  '''Funcion que saluda a la persona que ingresa el nombre'''\n",
        "  print(f\"¡Hola {nombre}!\")\n",
        "  return\n",
        "\n",
        "saludo_con_nombre(\"Alejandro\")"
      ],
      "metadata": {
        "colab": {
          "base_uri": "https://localhost:8080/"
        },
        "id": "oxlz2vzaZiFU",
        "outputId": "b8578bda-144d-4d9a-8b99-db434f60b9f0"
      },
      "execution_count": null,
      "outputs": [
        {
          "output_type": "stream",
          "name": "stdout",
          "text": [
            "¡Hola Alejandro!\n"
          ]
        }
      ]
    },
    {
      "cell_type": "markdown",
      "source": [
        "# ***Ejercicio 3***\n",
        "Escribir una función que reciba un número entero positivo y devuelva su factorial."
      ],
      "metadata": {
        "id": "xN7RywauamPe"
      }
    },
    {
      "cell_type": "code",
      "source": [
        "import math\n",
        "\n",
        "def factorial (n):\n",
        "  '''\n",
        "    Funcionamiento:\n",
        "      Ingresa un numero entero positivo y devuelve su factorial\n",
        "    Argumento:\n",
        "      n - numero entero positivo\n",
        "    Retorna:\n",
        "      El factorial de n\n",
        "  '''\n",
        "  factorial = math.factorial(n)\n",
        "  return factorial\n",
        "\n",
        "factorial(6)"
      ],
      "metadata": {
        "colab": {
          "base_uri": "https://localhost:8080/"
        },
        "id": "MrY6FSo_azGG",
        "outputId": "ac360be4-a464-4639-f690-bc1fa665b20a"
      },
      "execution_count": null,
      "outputs": [
        {
          "output_type": "execute_result",
          "data": {
            "text/plain": [
              "720"
            ]
          },
          "metadata": {},
          "execution_count": 14
        }
      ]
    },
    {
      "cell_type": "markdown",
      "source": [
        "# ***Ejercicio 4***\n",
        "Escribir una función que calcule el total de una factura tras aplicarle el IVA. La función debe recibir la cantidad sin IVA y el porcentaje de IVA a aplicar, y devolver el total de la factura. Si se invoca la función sin pasarle el porcentaje de IVA, deberá aplicar un 21%."
      ],
      "metadata": {
        "id": "UgoXiXzEc4pv"
      }
    },
    {
      "cell_type": "code",
      "source": [
        "def calculadora_iva (cantidad, iva = 21):\n",
        "  '''\n",
        "    Funcionamiento:\n",
        "      Se ingresan los parametros cantidad e iva y calcula el iva de su factura y devuelve el total\n",
        "    Argumentos:\n",
        "      cantidad - precio de la factura sin iva\n",
        "      iva - porcentaje de iba que se aplicara (por defecto 21%)\n",
        "    Retorna:\n",
        "      La costo total + iva\n",
        "  '''\n",
        "  return (cantidad)+((cantidad/100)*iva)\n",
        "\n",
        "print(calculadora_iva(20000))\n",
        "print(calculadora_iva(20000,19))"
      ],
      "metadata": {
        "colab": {
          "base_uri": "https://localhost:8080/"
        },
        "id": "Ox2rrrJ3bJJ4",
        "outputId": "785ca4ff-b6e1-4e55-e140-88cccef90864"
      },
      "execution_count": null,
      "outputs": [
        {
          "output_type": "stream",
          "name": "stdout",
          "text": [
            "24200.0\n",
            "23800.0\n"
          ]
        }
      ]
    },
    {
      "cell_type": "markdown",
      "source": [
        "# ***Ejercicio 5***\n",
        "Escribir una función que calcule el área de un círculo y otra que calcule el volumen de un cilindro usando la primera función."
      ],
      "metadata": {
        "id": "704uBlkCeZxS"
      }
    },
    {
      "cell_type": "code",
      "source": [
        "import math\n",
        "def area_circulo (radio):\n",
        "  '''\n",
        "    Funcionamiento:\n",
        "      Recibe el argumento de radio y calcula el area de un circulo\n",
        "    Argumentos:\n",
        "      radio - radio del circulo\n",
        "    Retorna:\n",
        "      El area de un circulo\n",
        "  '''\n",
        "  return (math.pi)*(radio**2)\n",
        "\n",
        "def volumen_cilindro (radio, altura):\n",
        "  '''\n",
        "    Funcionamiento:\n",
        "      Recibe los parametras de radio y el altura y calcula el volumen de un cilindro\n",
        "    Argumentos:\n",
        "      radio - radio del cilindro\n",
        "      altura - altura del cilindro\n",
        "    Retorna:\n",
        "      El volumen del cilindro\n",
        "  '''\n",
        "  return area_circulo(radio)*altura\n",
        "\n",
        "print(volumen_cilindro(3,5))"
      ],
      "metadata": {
        "colab": {
          "base_uri": "https://localhost:8080/"
        },
        "id": "MbAWLIikd7Dk",
        "outputId": "976248c5-b0d3-4749-c9d3-cc1b2ba4259c"
      },
      "execution_count": null,
      "outputs": [
        {
          "output_type": "stream",
          "name": "stdout",
          "text": [
            "141.3716694115407\n"
          ]
        }
      ]
    },
    {
      "cell_type": "markdown",
      "source": [
        "# ***Ejercicio 6***\n",
        "Escribir una función que reciba una muestra de números en una lista y devuelva su media."
      ],
      "metadata": {
        "id": "0vQiS26ekb95"
      }
    },
    {
      "cell_type": "code",
      "source": [
        "import numpy as np\n",
        "def calcular_media (lista):\n",
        "  '''\n",
        "    Funcionamiento:\n",
        "      Recibe una lista y calcula la media de los datos dados\n",
        "    Argumentos:\n",
        "      lista - una lista de numeros\n",
        "    Retorna:\n",
        "      La media de los numeros dados\n",
        "  '''\n",
        "  return np.mean(lista)\n",
        "\n",
        "calcular_media([1,2,3,4,5,6])"
      ],
      "metadata": {
        "colab": {
          "base_uri": "https://localhost:8080/"
        },
        "id": "oC7VBoqqgGm0",
        "outputId": "77f5eb02-7df5-43a7-f030-6100aa19d576"
      },
      "execution_count": null,
      "outputs": [
        {
          "output_type": "execute_result",
          "data": {
            "text/plain": [
              "3.5"
            ]
          },
          "metadata": {},
          "execution_count": 38
        }
      ]
    },
    {
      "cell_type": "markdown",
      "source": [
        "# ***Ejercicio 7***\n",
        "Escribir una función que reciba una muestra de números en una lista y devuelva otra lista con sus cuadrados."
      ],
      "metadata": {
        "id": "ovSgwj8XsM5u"
      }
    },
    {
      "cell_type": "code",
      "source": [
        "def lista_cuadrados (lista):\n",
        "  '''\n",
        "    Funcionamiento:\n",
        "      Recibe una lista de numeros y devuelve sus cuadrados en otra lista\n",
        "    Arguementos:\n",
        "      lista - una lista de numeros\n",
        "    Retorna:\n",
        "      Una lista con los cuadrados del argumento\n",
        "  '''\n",
        "  contador = 0\n",
        "  cuadrados = []\n",
        "  for x in lista:\n",
        "    cuadrados.append(x**2)\n",
        "  return cuadrados\n",
        "\n",
        "lista_cuadrados([1,2,3])"
      ],
      "metadata": {
        "colab": {
          "base_uri": "https://localhost:8080/"
        },
        "id": "Te2BQuTZpTQa",
        "outputId": "515f4d52-711a-46a3-f914-0364b7de66fd"
      },
      "execution_count": null,
      "outputs": [
        {
          "output_type": "execute_result",
          "data": {
            "text/plain": [
              "[1, 4, 9]"
            ]
          },
          "metadata": {},
          "execution_count": 47
        }
      ]
    },
    {
      "cell_type": "markdown",
      "source": [
        "# ***Ejercicio 8***\n",
        "Escribir una función que reciba una muestra de números en una lista y devuelva un diccionario con su media, varianza y desviación típica."
      ],
      "metadata": {
        "id": "7aUbDA_0vHyT"
      }
    },
    {
      "cell_type": "code",
      "source": [
        "import numpy as np\n",
        "def calculadora_estadistica (lista):\n",
        "  '''\n",
        "    Funcionamiento:\n",
        "      Recibe una lista de numeros y devuelve su media, varianza y desviación tipica\n",
        "    Argumentos:\n",
        "      lista - una lista de numeros\n",
        "    Retorna:\n",
        "      Diccionario con media, varianza y desviacion tipica\n",
        "  '''\n",
        "  diccionario = {}\n",
        "  diccionario['media'] = np.mean(lista)\n",
        "  diccionario['desviación tipica'] = np.std(lista)\n",
        "  diccionario['varianza'] = np.var(lista)\n",
        "  return diccionario\n",
        "\n",
        "calculadora_estadistica([1,2,3,4,5])"
      ],
      "metadata": {
        "id": "yXrUcAtUs_Xb",
        "colab": {
          "base_uri": "https://localhost:8080/"
        },
        "outputId": "281f62fb-8bd5-42de-fd53-f4f797e8bee7"
      },
      "execution_count": null,
      "outputs": [
        {
          "output_type": "execute_result",
          "data": {
            "text/plain": [
              "{'desviación tipica': 1.4142135623730951, 'media': 3.0, 'varianza': 2.0}"
            ]
          },
          "metadata": {},
          "execution_count": 52
        }
      ]
    },
    {
      "cell_type": "markdown",
      "source": [
        "# ***Ejercicio 9***\n",
        "Escribir una función que calcule el máximo común divisor de dos números y otra que calcule el mínimo común múltiplo."
      ],
      "metadata": {
        "id": "iMtWZf55xbMk"
      }
    },
    {
      "cell_type": "code",
      "source": [
        "def mcd (n1,n2):\n",
        "  '''\n",
        "    Funcionamiento:\n",
        "      Recibe dos numeros y devuelve el maximo común divisor\n",
        "    Arguementos:\n",
        "      n1 - Numero 1 para calcular maximo comun divisor\n",
        "      n2 - Numero 2 para calcular maximo comun divisor\n",
        "    Retorna:\n",
        "      Calculo de maximo comun divisor de los dos numeros\n",
        "  '''\n",
        "  if(n2 == 0):\n",
        "    return n1\n",
        "  else:\n",
        "    return mcd(n2,n1%n2)\n",
        "\n",
        "def mcm (n1,n2):\n",
        "  '''\n",
        "    Funcionamiento:\n",
        "      Recibe dos numeros y devuelve el minimo común multiplo\n",
        "    Arguementos:\n",
        "      n1 - Numero 1 para calcular minimo común multiplo\n",
        "      n2 - Numero 2 para calcular minimo común multiplo\n",
        "    Retorna:\n",
        "      Calculo de minimo común multiplo de los dos numeros\n",
        "  '''\n",
        "  return (n1 * n2)/mcd(n1,n2)\n",
        "\n",
        "print(f\"Máximo común divisor: {mcd(72,60)}\")\n",
        "print(f\"Minimo común multiplo: {mcm(72,60)}\")"
      ],
      "metadata": {
        "id": "UHgOCsRowVIL",
        "colab": {
          "base_uri": "https://localhost:8080/"
        },
        "outputId": "eec48a43-cf69-4100-d8f6-7ebae4fc731b"
      },
      "execution_count": null,
      "outputs": [
        {
          "output_type": "stream",
          "name": "stdout",
          "text": [
            "Máximo común divisor: 12\n",
            "Minimo común multiplo: 360.0\n"
          ]
        }
      ]
    },
    {
      "cell_type": "markdown",
      "source": [
        "# ***Ejercicio 10***\n",
        "Escribir una función que convierta un número decimal en binario y otra que convierta un número binario en decimal."
      ],
      "metadata": {
        "id": "bE9uTaHvs523"
      }
    },
    {
      "cell_type": "code",
      "source": [
        "def dec_to_bin (n):\n",
        "  '''\n",
        "    Funcionamiento:\n",
        "      Ingresa un numero decimal y retorna el valor en binario\n",
        "    Argumentos:\n",
        "      n - Numero en decimal\n",
        "    Retorna:\n",
        "      Numero decimal convertido en binario\n",
        "  '''\n",
        "  return bin(n)\n",
        "\n",
        "def bin_to_dec (n):\n",
        "  '''\n",
        "    Funcionamiento:\n",
        "      Ingresa un numero binario y retorna el valor en decimal\n",
        "    Argumentos:\n",
        "      n - Numero en binario\n",
        "    Retorna:\n",
        "      Numero binario convertido en decimal\n",
        "  '''\n",
        "  return int(str(n),2)\n",
        "\n",
        "print(dec_to_bin(10))\n",
        "print(bin_to_dec(1010))"
      ],
      "metadata": {
        "colab": {
          "base_uri": "https://localhost:8080/"
        },
        "id": "z7OmXxA2rbQ9",
        "outputId": "907da3a0-eb56-47d2-d60a-ecfa67764bda"
      },
      "execution_count": null,
      "outputs": [
        {
          "output_type": "stream",
          "name": "stdout",
          "text": [
            "0b1010\n",
            "10\n"
          ]
        }
      ]
    },
    {
      "cell_type": "markdown",
      "source": [
        "# ***Ejercicio 11***\n",
        "Escribir un programa que reciba una cadena de caracteres y devuelva un diccionario con cada palabra que contiene y su frecuencia. Escribir otra función que reciba el diccionario generado con la función anterior y devuelva una tupla con la palabra más repetida y su frecuencia."
      ],
      "metadata": {
        "id": "vLiY63vawYMu"
      }
    },
    {
      "cell_type": "code",
      "source": [
        "from IPython.core.display import Markdown\n",
        "def contar_palabras (texto):\n",
        "  '''\n",
        "    Funcionamiento:\n",
        "      Recibe un texto y cuenta la cantidad de veces que cada palabra aparece en dicho texto\n",
        "    Argumentos:\n",
        "      texto - Texto que se recibe\n",
        "    Retorna:\n",
        "      Diccionario con cada palabra y su frecuencia\n",
        "  '''\n",
        "  texto = texto.split()\n",
        "  palabras = {}\n",
        "  for x in texto:\n",
        "    if x in palabras:\n",
        "      palabras[x] += 1\n",
        "    else:\n",
        "      palabras[x] = 1\n",
        "  return palabras\n",
        "\n",
        "def palabra_mas_repetida (palabras):\n",
        "  palabra_mas = ''\n",
        "  mas_frecuencia = 0\n",
        "  for palabra, frecuencia in palabras.items():\n",
        "    if frecuencia > mas_frecuencia:\n",
        "      palabra_mas = palabra\n",
        "      mas_frecuencia = frecuencia\n",
        "  return palabra_mas, mas_frecuencia\n",
        "\n",
        "texto = \"Arroz con leche me quiero casar con una señorita de la capital\"\n",
        "print(contar_palabras(texto))\n",
        "print(palabra_mas_repetida(contar_palabras(texto)))"
      ],
      "metadata": {
        "id": "HdZHah0gudJz",
        "colab": {
          "base_uri": "https://localhost:8080/"
        },
        "outputId": "2ba40c2a-1669-4e2c-cdc4-abfd7cfd71e8"
      },
      "execution_count": 6,
      "outputs": [
        {
          "output_type": "stream",
          "name": "stdout",
          "text": [
            "{'Arroz': 1, 'con': 2, 'leche': 1, 'me': 1, 'quiero': 1, 'casar': 1, 'una': 1, 'señorita': 1, 'de': 1, 'la': 1, 'capital': 1}\n",
            "('con', 2)\n"
          ]
        }
      ]
    }
  ]
}
