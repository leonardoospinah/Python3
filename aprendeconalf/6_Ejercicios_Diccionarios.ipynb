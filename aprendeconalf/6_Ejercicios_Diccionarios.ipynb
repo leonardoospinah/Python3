{
  "nbformat": 4,
  "nbformat_minor": 0,
  "metadata": {
    "colab": {
      "name": "6_Ejercicios_Diccionarios.ipynb",
      "provenance": [],
      "authorship_tag": "ABX9TyMWNV92tPbUJ/V+oh+nNO5h",
      "include_colab_link": true
    },
    "kernelspec": {
      "name": "python3",
      "display_name": "Python 3"
    },
    "language_info": {
      "name": "python"
    }
  },
  "cells": [
    {
      "cell_type": "markdown",
      "metadata": {
        "id": "view-in-github",
        "colab_type": "text"
      },
      "source": [
        "<a href=\"https://colab.research.google.com/github/leonardoospinah/Python3/blob/main/6_Ejercicios_Diccionarios.ipynb\" target=\"_parent\"><img src=\"https://colab.research.google.com/assets/colab-badge.svg\" alt=\"Open In Colab\"/></a>"
      ]
    },
    {
      "cell_type": "markdown",
      "source": [
        "# ***Ejercicio 1***\n",
        "Escribir un programa que guarde en una variable el diccionario `{'Euro':'€', 'Dollar':'$', 'Yen':'¥'}`, pregunte al usuario por una divisa y muestre su símbolo o un mensaje de aviso si la divisa no está en el diccionario.\n",
        "\n"
      ],
      "metadata": {
        "id": "EufATMttefTy"
      }
    },
    {
      "cell_type": "code",
      "execution_count": null,
      "metadata": {
        "colab": {
          "base_uri": "https://localhost:8080/"
        },
        "id": "H6gO1DYRXM3r",
        "outputId": "3b3b9f46-ffeb-4239-e8c2-8e49efa22a0a"
      },
      "outputs": [
        {
          "output_type": "stream",
          "name": "stdout",
          "text": [
            "Ingrese la divisa: Euro\n",
            "El Euro tiene el simbolo de: €\n"
          ]
        }
      ],
      "source": [
        "divisas = {\"Euro\":\"€\" , \"Dolar\":\"$\" , \"Yen\":\"¥\"}\n",
        "divisa_usuario = input(\"Ingrese la divisa: \").title()\n",
        "if divisa_usuario in divisas:\n",
        "  print(f\"El {divisa_usuario} tiene el simbolo de: {divisas[divisa_usuario]}\")\n",
        "else:\n",
        "  print(\"La divisa ingresada no se encuentra en sistema\")"
      ]
    },
    {
      "cell_type": "markdown",
      "source": [
        "# ***Ejercicio 2***\n",
        "Escribir un programa que pregunte al usuario su nombre, edad, dirección y teléfono y lo guarde en un diccionario. Después debe mostrar por pantalla el mensaje `<nombre> tiene <edad> años, vive en <dirección> y su número de teléfono es <teléfono>.`"
      ],
      "metadata": {
        "id": "R684AAreiRka"
      }
    },
    {
      "cell_type": "code",
      "source": [
        "datos = {}\n",
        "datos[\"nombre\"] = input(\"Ingrese su nombre: \")\n",
        "datos[\"edad\"] = int(input(\"Ingrese su edad: \"))\n",
        "datos[\"direccion\"] = input(\"Ingrese su direccion: \")\n",
        "datos[\"telefono\"] = input(\"Ingrese su telefono: \")\n",
        "print(f\"{datos['nombre']} tiene {datos['edad']} años, vive en {datos['direccion']} y su numero de teléfono es {datos['telefono']}\")"
      ],
      "metadata": {
        "colab": {
          "base_uri": "https://localhost:8080/"
        },
        "id": "Y3JGLFUrf7jQ",
        "outputId": "00c18a91-6d49-48f6-e0d4-25f37f9a5934"
      },
      "execution_count": null,
      "outputs": [
        {
          "output_type": "stream",
          "name": "stdout",
          "text": [
            "Ingrese su nombre: Leonardo\n",
            "Ingrese su edad: 21\n",
            "Ingrese su direccion: Calle 123 # 45 - 67\n",
            "Ingrese su telefono: +57 123456789\n",
            "Leonardo tiene 21 años, vive en Calle 123 # 45 - 67 y su numero de teléfono es +57 123456789\n"
          ]
        }
      ]
    },
    {
      "cell_type": "markdown",
      "source": [
        "# ***Ejercicio 3***\n",
        "Escribir un programa que guarde en un diccionario los precios de las frutas de la tabla, pregunte al usuario por una fruta, un número de kilos y muestre por pantalla el precio de ese número de kilos de fruta. Si la fruta no está en el diccionario debe mostrar un mensaje informando de ello.\n",
        "\n",
        "|Fruta|Precio|\n",
        "|:---:|:----:|\n",
        "|Plátano|1.35|\n",
        "|Manzana|0.80|\n",
        "|Pera|0.85|\n",
        "|Naranja|0.70|"
      ],
      "metadata": {
        "id": "EhXe6DSel-1U"
      }
    },
    {
      "cell_type": "code",
      "source": [
        "fruta_precios = {'Platano':1.35 , 'Manzana':0.80 , 'Pera':0.85 , 'Naranja':0.70}\n",
        "fruta = input(\"Ingrese la fruta: \").title()\n",
        "peso = int(input(\"Ingrese el peso en kilogramos (kg): \"))\n",
        "if fruta in fruta_precios:\n",
        "  print(\"\\nFruta\\t\\tPrecio por kilo\\t\\tPeso\\t\\tTotal\")\n",
        "  print(f\"{fruta}\\t\\t{fruta_precios[fruta]}\\t\\t\\t{peso}\\t\\t{round((fruta_precios[fruta])*peso,3)}\")\n",
        "else:\n",
        "  print(\"La fruta ingresada no se encuentra en el sistema\")"
      ],
      "metadata": {
        "colab": {
          "base_uri": "https://localhost:8080/"
        },
        "id": "k3cYpc8Pmudi",
        "outputId": "d22b0d4f-d401-44f9-c2fe-c6bb2ddb55ff"
      },
      "execution_count": null,
      "outputs": [
        {
          "output_type": "stream",
          "name": "stdout",
          "text": [
            "Ingrese la fruta: manzana\n",
            "Ingrese el peso en kilogramos (kg): 3\n",
            "\n",
            "Fruta\t\tPrecio por kilo\t\tPeso\t\tTotal\n",
            "Manzana\t\t0.8\t\t\t3\t\t2.4\n"
          ]
        }
      ]
    },
    {
      "cell_type": "markdown",
      "source": [
        "# ***Ejercicio 4***\n",
        "Escribir un programa que pregunte una fecha en formato `dd/mm/aaaa` y muestre por pantalla la misma fecha en formato `dd de <mes> de aaaa` donde `<mes>` es el nombre del mes."
      ],
      "metadata": {
        "id": "gI6fQDINBwOn"
      }
    },
    {
      "cell_type": "code",
      "source": [
        "meses = {1:'enero', 2:'febrero', 3:'marzo', 4:'abril', 5:'mayo', 6:'junio', 7:'julio', 8:'agosto', 9:'septiembre' , 10:'octubre', 11:'noviembre', 12:'diciembre'}\n",
        "fecha = input(\"Ingrese fecha en formato (dd/mm/aaaa): \")\n",
        "fecha = fecha.split(\"/\")\n",
        "print(f\"{fecha[0]} de {meses[int(fecha[1])]} de {fecha[2]}\")"
      ],
      "metadata": {
        "id": "Ch_gPk_hoM8O",
        "colab": {
          "base_uri": "https://localhost:8080/"
        },
        "outputId": "2b56bae6-2fc4-43e8-ab7f-8a1db08528d8"
      },
      "execution_count": null,
      "outputs": [
        {
          "output_type": "stream",
          "name": "stdout",
          "text": [
            "Ingrese fecha en formato (dd/mm/aaaa): 10/10/2000\n",
            "10 de octubre de 2000\n"
          ]
        }
      ]
    },
    {
      "cell_type": "markdown",
      "source": [
        "# ***Ejercicio 5***\n",
        "Escribir un programa que almacene el diccionario con los créditos de las asignaturas de un curso `{'Matemáticas': 6, 'Física': 4, 'Química': 5}` y después muestre por pantalla los créditos de cada asignatura en el formato `<asignatura> tiene <créditos> créditos`, donde `<asignatura>` es cada una de las asignaturas del curso, y `<créditos>` son sus créditos. Al final debe mostrar también el número total de créditos del curso.\n",
        "\n",
        "\n"
      ],
      "metadata": {
        "id": "GqprgSOChcmq"
      }
    },
    {
      "cell_type": "code",
      "source": [
        "asignaturas = {'Matematicas':6, 'Fisica':4, 'Quimica':5}\n",
        "creditos = 0\n",
        "for x in asignaturas:\n",
        "  creditos += asignaturas[x]\n",
        "  print(f\"{x} tiene {asignaturas[x]} creditos\")\n",
        "print(f\"\\nEl total de creditos del curso es: {creditos}\")"
      ],
      "metadata": {
        "colab": {
          "base_uri": "https://localhost:8080/"
        },
        "id": "9nl4Q_vuYHer",
        "outputId": "87cec08e-3090-4a0b-a65e-3ba647fef0e6"
      },
      "execution_count": null,
      "outputs": [
        {
          "output_type": "stream",
          "name": "stdout",
          "text": [
            "Matematicas tiene 6 creditos\n",
            "Fisica tiene 4 creditos\n",
            "Quimica tiene 5 creditos\n",
            "\n",
            "El total de creditos del curso es: 15\n"
          ]
        }
      ]
    },
    {
      "cell_type": "markdown",
      "source": [
        "# ***Ejercicio 6***\n",
        "Escribir un programa que cree un diccionario vacío y lo vaya llenado con información sobre una persona (por ejemplo nombre, edad, sexo, teléfono, correo electrónico, etc.) que se le pida al usuario. Cada vez que se añada un nuevo dato debe imprimirse el contenido del diccionario."
      ],
      "metadata": {
        "id": "BHOBTkUqkk_v"
      }
    },
    {
      "cell_type": "code",
      "source": [
        "datos = {}\n",
        "continuar = \"Si\"\n",
        "while continuar == \"Si\":\n",
        "  clave = input(\"\\n¿Que dato desea introducir?: \")\n",
        "  valor = input(f\"{clave}: \")\n",
        "  datos[clave] = valor\n",
        "  print(f\"{datos}\\n\")\n",
        "  continuar = input(\"¿Desea continuar? (Si/No): \").title()"
      ],
      "metadata": {
        "colab": {
          "base_uri": "https://localhost:8080/"
        },
        "id": "7QunHlhujCEP",
        "outputId": "967da197-5d47-430e-e72f-f45ebc1179a3"
      },
      "execution_count": null,
      "outputs": [
        {
          "name": "stdout",
          "output_type": "stream",
          "text": [
            "\n",
            "¿Que dato desea introducir?: Nombre\n",
            "Nombre: Leonardo\n",
            "{'Nombre': 'Leonardo'}\n",
            "\n",
            "¿Desea continuar? (Si/No): Si\n",
            "\n",
            "¿Que dato desea introducir?: Edad\n",
            "Edad: 21\n",
            "{'Nombre': 'Leonardo', 'Edad': '21'}\n",
            "\n",
            "¿Desea continuar? (Si/No): Si\n",
            "\n",
            "¿Que dato desea introducir?: Telefono\n",
            "Telefono: +57 3013976492\n",
            "{'Nombre': 'Leonardo', 'Edad': '21', 'Telefono': '+57 3013976492'}\n",
            "\n",
            "¿Desea continuar? (Si/No): No\n"
          ]
        }
      ]
    },
    {
      "cell_type": "markdown",
      "source": [
        "# ***Ejercicio 7***\n",
        "Escribir un programa que cree un diccionario simulando una cesta de la compra. El programa debe preguntar el artículo y su precio y añadir el par al diccionario, hasta que el usuario decida terminar. Después se debe mostrar por pantalla la lista de la compra y el coste total, con el siguiente formato:\n",
        "\n",
        "|Lista de compra| |\n",
        "|:--------:|:----:|\n",
        "|Artículo 1|Precio|\n",
        "|Artículo 2|Precio|\n",
        "|Artículo 3|Precio|\n",
        "|...       |...|\n",
        "|Total|Coste|"
      ],
      "metadata": {
        "id": "2OAWfQV-FonN"
      }
    },
    {
      "cell_type": "code",
      "source": [
        "lista_compra = {}\n",
        "continuar = \"Si\"\n",
        "while continuar == \"Si\":\n",
        "  articulo = input(\"\\nIngrese el nombre del articulo: \")\n",
        "  precio = input(f\"Ingrese el precio de {articulo}: \")\n",
        "  lista_compra[articulo] = precio\n",
        "  continuar = input(\"¿Desea ingresar otro articulo? (Si/No): \").title()\n",
        "print(\"\\nLista de compras\")\n",
        "for x in lista_compra:\n",
        "  print(f\"{x}\\t{lista_compra[x]}\")"
      ],
      "metadata": {
        "colab": {
          "base_uri": "https://localhost:8080/"
        },
        "id": "pH_pdN9rCa40",
        "outputId": "74db1354-362b-4f66-c1a1-a754f51099e7"
      },
      "execution_count": null,
      "outputs": [
        {
          "output_type": "stream",
          "name": "stdout",
          "text": [
            "\n",
            "Ingrese el nombre del articulo: arroz\n",
            "Ingrese el precio de arroz: 100\n",
            "¿Desea ingresar otro articulo? (Si/No): si\n",
            "\n",
            "Ingrese el nombre del articulo: tomate\n",
            "Ingrese el precio de tomate: 200\n",
            "¿Desea ingresar otro articulo? (Si/No): si\n",
            "\n",
            "Ingrese el nombre del articulo: pescado\n",
            "Ingrese el precio de pescado: 300\n",
            "¿Desea ingresar otro articulo? (Si/No): no\n",
            "\n",
            "Lista de compras\n",
            "arroz\t100\n",
            "tomate\t200\n",
            "pescado\t300\n"
          ]
        }
      ]
    },
    {
      "cell_type": "markdown",
      "source": [
        "# ***Ejercicio 8***\n",
        "Escribir un programa que cree un diccionario de traducción español-inglés. El usuario introducirá las palabras en español e inglés separadas por dos puntos, y cada par `<palabra>:<traducción>` separados por comas. El programa debe crear un diccionario con las palabras y sus traducciones. Después pedirá una frase en español y utilizará el diccionario para traducirla palabra a palabra. Si una palabra no está en el diccionario debe dejarla sin traducir."
      ],
      "metadata": {
        "id": "Hixh9JVzJgdy"
      }
    },
    {
      "cell_type": "code",
      "source": [
        "diccionario = {}\n",
        "palabras = input(\"Introduce palabra:traduccion, cada una separada por comas: \")\n",
        "for x in palabras.split(\",\"):\n",
        "  clave,valor = x.split(\":\")\n",
        "  diccionario[clave] = valor\n",
        "texto = input(\"Introduzca el texto a traducir: \")\n",
        "for x in texto.split():\n",
        "  if x in diccionario:\n",
        "    print(diccionario[x], end=' ')\n",
        "  else:\n",
        "    print(x, end=' ')"
      ],
      "metadata": {
        "colab": {
          "base_uri": "https://localhost:8080/"
        },
        "id": "Ai4anTDsH3xk",
        "outputId": "2731b34d-57ed-4e41-b37a-a636d883e4ed"
      },
      "execution_count": null,
      "outputs": [
        {
          "output_type": "stream",
          "name": "stdout",
          "text": [
            "Introduce palabra:traduccion, cada una separada por comas: arroz:rice,como:eat,yo:i,en:in,mi:my\n",
            "Introduzca el texto a traduciryo como arroz en mi casa\n",
            "i eat rice in my casa "
          ]
        }
      ]
    },
    {
      "cell_type": "markdown",
      "source": [
        "# ***Ejercicio 9***\n",
        "Escribir un programa que gestione las facturas pendientes de cobro de una empresa. Las facturas se almacenarán en un diccionario donde la clave de cada factura será el número de factura y el valor el coste de la factura. El programa debe preguntar al usuario si quiere añadir una nueva factura, pagar una existente o terminar. Si desea añadir una nueva factura se preguntará por el número de factura y su coste y se añadirá al diccionario. Si se desea pagar una factura se preguntará por el número de factura y se eliminará del diccionario. Después de cada operación el programa debe mostrar por pantalla la cantidad cobrada hasta el momento y la cantidad pendiente de cobro."
      ],
      "metadata": {
        "id": "UD04PSW0fDSn"
      }
    },
    {
      "cell_type": "code",
      "source": [
        "facturas = {}\n",
        "seleccionar = 0\n",
        "while seleccionar != 3:\n",
        "  print(\"\"\"\\n\n",
        "  1. Añadir una factura\n",
        "  2. Pagar una factura existente\n",
        "  3. Terminar\n",
        "  \"\"\")\n",
        "  seleccionar = int(input(\"Seleccione una opcion: \"))\n",
        "  if seleccionar == 1:\n",
        "    numero_factura = input(\"\\nIngrese numero de factura: \")\n",
        "    coste_factura = input(\"Ingrese el coste de factura: \")\n",
        "    facturas[numero_factura] = coste_factura\n",
        "    print(facturas)\n",
        "  elif seleccionar == 2:\n",
        "    numero_factura = input(\"Ingrese el numero de factura\")\n",
        "    del facturas[numero_factura]\n",
        "    print(facturas)\n",
        "  elif seleccionar == 3:\n",
        "    break"
      ],
      "metadata": {
        "id": "uM9We7BALUpH",
        "colab": {
          "base_uri": "https://localhost:8080/"
        },
        "outputId": "dbcbab3a-0758-4032-802c-e82fce6e90e4"
      },
      "execution_count": null,
      "outputs": [
        {
          "name": "stdout",
          "output_type": "stream",
          "text": [
            "\n",
            "\n",
            "  1. Añadir una factura\n",
            "  2. Pagar una factura existente\n",
            "  3. Terminar\n",
            "  \n",
            "Seleccione una opcion: 1\n",
            "\n",
            "Ingrese numero de factura: 123\n",
            "Ingrese el coste de factura: 3000\n",
            "{'123': '3000'}\n",
            "\n",
            "\n",
            "  1. Añadir una factura\n",
            "  2. Pagar una factura existente\n",
            "  3. Terminar\n",
            "  \n",
            "Seleccione una opcion: 1\n",
            "\n",
            "Ingrese numero de factura: 456\n",
            "Ingrese el coste de factura: 4000\n",
            "{'123': '3000', '456': '4000'}\n",
            "\n",
            "\n",
            "  1. Añadir una factura\n",
            "  2. Pagar una factura existente\n",
            "  3. Terminar\n",
            "  \n",
            "Seleccione una opcion: 2\n",
            "Ingrese el numero de factura123\n",
            "{'456': '4000'}\n",
            "\n",
            "\n",
            "  1. Añadir una factura\n",
            "  2. Pagar una factura existente\n",
            "  3. Terminar\n",
            "  \n",
            "Seleccione una opcion: 3\n"
          ]
        }
      ]
    },
    {
      "cell_type": "markdown",
      "source": [
        "# ***Ejericio 10***\n",
        "Escribir un programa que permita gestionar la base de datos de clientes de una empresa. Los clientes se guardarán en un diccionario en el que la clave de cada cliente será su NIF, y el valor será otro diccionario con los datos del cliente (nombre, dirección, teléfono, correo, preferente), donde preferente tendrá el valor True si se trata de un cliente preferente. El programa debe preguntar al usuario por una opción del siguiente menú: (1) Añadir cliente, (2) Eliminar cliente, (3) Mostrar cliente, (4) Listar todos los clientes, (5) Listar clientes preferentes, (6) Terminar. En función de la opción elegida el programa tendrá que hacer lo siguiente:\n",
        "\n",
        "\n",
        "1.   Preguntar los datos del cliente, crear un diccionario con los datos y añadirlo a la base de datos.\n",
        "2.   Preguntar por el NIF del cliente y eliminar sus datos de la base de datos.\n",
        "3.   Preguntar por el NIF del cliente y mostrar sus datos.\n",
        "4.   Mostrar lista de todos los clientes de la base datos con su NIF y nombre.\n",
        "5.   Mostrar la lista de clientes preferentes de la base de datos con su NIF y nombre.\n",
        "6.   Terminar el programa\n",
        "\n",
        "\n"
      ],
      "metadata": {
        "id": "lM0EkWWlni02"
      }
    },
    {
      "cell_type": "code",
      "source": [
        "base_datos = {}\n",
        "menu = 0\n",
        "while menu != 6:\n",
        "  print(\"\"\"\n",
        "  \\tM E N U\\n\n",
        "  1. Añadir cliente\n",
        "  2. Eliminar cliente\n",
        "  3. Mostras cliente\n",
        "  4. Listar todos los clientes\n",
        "  5. Listar clientes preferentes\n",
        "  6. Terminar\n",
        "  \"\"\")\n",
        "  menu = int(input(\"Seleccione una opcion: \"))\n",
        "  if menu == 1:\n",
        "    NIF = input(\"Ingrese el NIF del cliente: \")\n",
        "    datos = input(\"Ingrese nombre, dirección, telefono, correo, ¿es preferente? separados por comas (,): \").split(\",\")\n",
        "    base_datos[NIF] = datos\n",
        "    print(base_datos)\n",
        "  elif menu == 2:\n",
        "    NIF = input(\"Ingrese el NIF del cliente: \")\n",
        "    del base_datos[NIF]\n",
        "    print(base_datos)\n",
        "  elif menu == 3:\n",
        "    NIF = input(\"Ingrese el NIF del cliente: \")\n",
        "    print(f\"El cliente {NIF}, tiene los siguientes datos guardados: {base_datos[NIF]}\")\n",
        "  elif menu == 4:\n",
        "    print(\"NIF\\tDatos\")\n",
        "    for x in base_datos:\n",
        "      print(f\"{x}\\t{base_datos[x]}\")\n",
        "  elif menu == 5:\n",
        "    print(\"NIF\\tDatos\")\n",
        "    for x in base_datos:\n",
        "      if (base_datos[x][4].lower()) == \"si\":\n",
        "        print(f\"{x}\\t{base_datos[x]}\")\n",
        "  elif menu == 6:\n",
        "    print(\"Se detiene la ejecución\")\n",
        "    break\n",
        "  else:\n",
        "    print(\"OPCION ERRONEA\")\n",
        "  "
      ],
      "metadata": {
        "colab": {
          "base_uri": "https://localhost:8080/"
        },
        "id": "aPy9Ov1D0lV4",
        "outputId": "f9bb491a-923f-4e9f-8606-fe8054e7162d"
      },
      "execution_count": 19,
      "outputs": [
        {
          "output_type": "stream",
          "name": "stdout",
          "text": [
            "\n",
            "  \tM E N U\n",
            "\n",
            "  1. Añadir cliente\n",
            "  2. Eliminar cliente\n",
            "  3. Mostras cliente\n",
            "  4. Listar todos los clientes\n",
            "  5. Listar clientes preferentes\n",
            "  6. Terminar\n",
            "  \n",
            "Seleccione una opcion: 1\n",
            "Ingrese el NIF del cliente: 1\n",
            "Ingrese nombre, dirección, telefono, correo, ¿es preferente? separados por comas (,): Leonardo,calle 1,123,leonardo@leonardo.com,si\n",
            "{'1': ['Leonardo', 'calle 1', '123', 'leonardo@leonardo.com', 'si']}\n",
            "\n",
            "  \tM E N U\n",
            "\n",
            "  1. Añadir cliente\n",
            "  2. Eliminar cliente\n",
            "  3. Mostras cliente\n",
            "  4. Listar todos los clientes\n",
            "  5. Listar clientes preferentes\n",
            "  6. Terminar\n",
            "  \n",
            "Seleccione una opcion: 2\n",
            "Ingrese el NIF del cliente: 1\n",
            "{}\n",
            "\n",
            "  \tM E N U\n",
            "\n",
            "  1. Añadir cliente\n",
            "  2. Eliminar cliente\n",
            "  3. Mostras cliente\n",
            "  4. Listar todos los clientes\n",
            "  5. Listar clientes preferentes\n",
            "  6. Terminar\n",
            "  \n",
            "Seleccione una opcion: 1\n",
            "Ingrese el NIF del cliente: 1\n",
            "Ingrese nombre, dirección, telefono, correo, ¿es preferente? separados por comas (,): Leonardo,calle 1,123,leonardo@leonardo.com,si\n",
            "{'1': ['Leonardo', 'calle 1', '123', 'leonardo@leonardo.com', 'si']}\n",
            "\n",
            "  \tM E N U\n",
            "\n",
            "  1. Añadir cliente\n",
            "  2. Eliminar cliente\n",
            "  3. Mostras cliente\n",
            "  4. Listar todos los clientes\n",
            "  5. Listar clientes preferentes\n",
            "  6. Terminar\n",
            "  \n",
            "Seleccione una opcion: 1\n",
            "Ingrese el NIF del cliente: 2\n",
            "Ingrese nombre, dirección, telefono, correo, ¿es preferente? separados por comas (,): Juan,carrera 1, 456,juan@juan.com,no\n",
            "{'1': ['Leonardo', 'calle 1', '123', 'leonardo@leonardo.com', 'si'], '2': ['Juan', 'carrera 1', ' 456', 'juan@juan.com', 'no']}\n",
            "\n",
            "  \tM E N U\n",
            "\n",
            "  1. Añadir cliente\n",
            "  2. Eliminar cliente\n",
            "  3. Mostras cliente\n",
            "  4. Listar todos los clientes\n",
            "  5. Listar clientes preferentes\n",
            "  6. Terminar\n",
            "  \n",
            "Seleccione una opcion: 3\n",
            "Ingrese el NIF del cliente: 1\n",
            "El cliente 1, tiene los siguientes datos guardados: ['Leonardo', 'calle 1', '123', 'leonardo@leonardo.com', 'si']\n",
            "\n",
            "  \tM E N U\n",
            "\n",
            "  1. Añadir cliente\n",
            "  2. Eliminar cliente\n",
            "  3. Mostras cliente\n",
            "  4. Listar todos los clientes\n",
            "  5. Listar clientes preferentes\n",
            "  6. Terminar\n",
            "  \n",
            "Seleccione una opcion: 4\n",
            "NIF\tDatos\n",
            "1\t['Leonardo', 'calle 1', '123', 'leonardo@leonardo.com', 'si']\n",
            "2\t['Juan', 'carrera 1', ' 456', 'juan@juan.com', 'no']\n",
            "\n",
            "  \tM E N U\n",
            "\n",
            "  1. Añadir cliente\n",
            "  2. Eliminar cliente\n",
            "  3. Mostras cliente\n",
            "  4. Listar todos los clientes\n",
            "  5. Listar clientes preferentes\n",
            "  6. Terminar\n",
            "  \n",
            "Seleccione una opcion: 5\n",
            "NIF\tDatos\n",
            "1\t['Leonardo', 'calle 1', '123', 'leonardo@leonardo.com', 'si']\n",
            "\n",
            "  \tM E N U\n",
            "\n",
            "  1. Añadir cliente\n",
            "  2. Eliminar cliente\n",
            "  3. Mostras cliente\n",
            "  4. Listar todos los clientes\n",
            "  5. Listar clientes preferentes\n",
            "  6. Terminar\n",
            "  \n",
            "Seleccione una opcion: 7\n",
            "OPCION ERRONEA\n",
            "\n",
            "  \tM E N U\n",
            "\n",
            "  1. Añadir cliente\n",
            "  2. Eliminar cliente\n",
            "  3. Mostras cliente\n",
            "  4. Listar todos los clientes\n",
            "  5. Listar clientes preferentes\n",
            "  6. Terminar\n",
            "  \n",
            "Seleccione una opcion: 6\n",
            "Se detiene la ejecución\n"
          ]
        }
      ]
    },
    {
      "cell_type": "markdown",
      "source": [
        "# ***Ejercicio 11***\n",
        "El directorio de los clientes de una empresa está organizado en una cadena de texto como la de más abajo, donde cada línea contiene la información del nombre, email, teléfono, nif, y el descuento que se le aplica. Las líneas se separan con el carácter de cambio de línea `\\n` y la primera línea contiene los nombres de los campos con la información contenida en el directorio.\n",
        "```\n",
        "\"nif;nombre;email;teléfono;descuento\\n01234567L;Luis González;luisgonzalez@mail.com;656343576;12.5\\n71476342J;Macarena Ramírez;macarena@mail.com;692839321;8\\n63823376M;Juan José Martínez;juanjo@mail.com;664888233;5.2\\n98376547F;Carmen Sánchez;carmen@mail.com;667677855;15.7\"\n",
        "```\n",
        "Escribir un programa que genere un diccionario con la información del directorio, donde cada elemento corresponda a un cliente y tenga por clave su nif y por valor otro diccionario con el resto de la información del cliente. Los diccionarios con la información de cada cliente tendrán como claves los nombres de los campos y como valores la información de cada cliente correspondientes a los campos. Es decir, un diccionario como el siguiente\n",
        "```\n",
        "{'01234567L': {'nombre': 'Luis González', 'email': 'luisgonzalez@mail.com', 'teléfono': '656343576', 'descuento': 12.5}, '71476342J': {'nombre': 'Macarena Ramírez', 'email': 'macarena@mail.com', 'teléfono': '692839321', 'descuento': 8.0}, '63823376M': {'nombre': 'Juan José Martínez', 'email': 'juanjo@mail.com', 'teléfono': '664888233', 'descuento': 5.2}, '98376547F': {'nombre': 'Carmen Sánchez', 'email': 'carmen@mail.com', 'teléfono': '667677855', 'descuento': 15.7}}\n",
        "```"
      ],
      "metadata": {
        "id": "iKfOsfppj25P"
      }
    },
    {
      "cell_type": "code",
      "source": [
        "base_datos = {}\n",
        "base_sin_tratar = \"nif;nombre;email;teléfono;descuento\\n01234567L;Luis González;luisgonzalez@mail.com;656343576;12.5\\n71476342J;Macarena Ramírez;macarena@mail.com;692839321;8\\n63823376M;Juan José Martínez;juanjo@mail.com;664888233;5.2\\n98376547F;Carmen Sánchez;carmen@mail.com;667677855;15.7\"\n",
        "lista_clientes = base_sin_tratar.split(\"\\n\")\n",
        "claves = lista_clientes[0].split(\";\")\n",
        "for i in lista_clientes[1:]:\n",
        "  valores = {}\n",
        "  lista_info = i.split(\";\")\n",
        "  for j in range(1,len(claves)):\n",
        "    if claves[j] == \"descuento\":\n",
        "      lista_info[j] = float(lista_info[j])\n",
        "    valores[claves[j]] = lista_info[j]\n",
        "  base_datos[lista_info[0]] = valores\n",
        "print(base_datos)"
      ],
      "metadata": {
        "id": "iJv3OmUXCHic",
        "colab": {
          "base_uri": "https://localhost:8080/"
        },
        "outputId": "4d358e62-97e9-4e7f-8f10-68afd3d12141"
      },
      "execution_count": 111,
      "outputs": [
        {
          "output_type": "stream",
          "name": "stdout",
          "text": [
            "{'01234567L': {'nombre': 'Luis González', 'email': 'luisgonzalez@mail.com', 'teléfono': '656343576', 'descuento': 12.5}, '71476342J': {'nombre': 'Macarena Ramírez', 'email': 'macarena@mail.com', 'teléfono': '692839321', 'descuento': 8.0}, '63823376M': {'nombre': 'Juan José Martínez', 'email': 'juanjo@mail.com', 'teléfono': '664888233', 'descuento': 5.2}, '98376547F': {'nombre': 'Carmen Sánchez', 'email': 'carmen@mail.com', 'teléfono': '667677855', 'descuento': 15.7}}\n"
          ]
        }
      ]
    },
    {
      "cell_type": "code",
      "source": [
        ""
      ],
      "metadata": {
        "id": "P9FZv9074vfQ"
      },
      "execution_count": null,
      "outputs": []
    }
  ]
}
