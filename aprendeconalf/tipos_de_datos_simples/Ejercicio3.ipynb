{
  "nbformat": 4,
  "nbformat_minor": 0,
  "metadata": {
    "colab": {
      "name": "Untitled1.ipynb",
      "provenance": [],
      "authorship_tag": "ABX9TyOFf4Mtnl18dDLV0U2UoTtq",
      "include_colab_link": true
    },
    "kernelspec": {
      "name": "python3",
      "display_name": "Python 3"
    },
    "language_info": {
      "name": "python"
    }
  },
  "cells": [
    {
      "cell_type": "markdown",
      "metadata": {
        "id": "view-in-github",
        "colab_type": "text"
      },
      "source": [
        "<a href=\"https://colab.research.google.com/github/leonardoospinah/Python3/blob/main/Untitled1.ipynb\" target=\"_parent\"><img src=\"https://colab.research.google.com/assets/colab-badge.svg\" alt=\"Open In Colab\"/></a>"
      ]
    },
    {
      "cell_type": "markdown",
      "source": [
        "# ***Ejercicio 3***\n",
        "Escribir un programa que pregunte el nombre del usuario en la consola y después de que el usuario lo introduzca muestre por pantalla la cadena ¡Hola (nombre)!, donde (nombre) es el nombre que el usuario haya introducido."
      ],
      "metadata": {
        "id": "Yleq-BewOTow"
      }
    },
    {
      "cell_type": "code",
      "execution_count": 7,
      "metadata": {
        "colab": {
          "base_uri": "https://localhost:8080/"
        },
        "id": "qUEUNcF1ORBf",
        "outputId": "e54535d7-0414-4443-9ed1-5fc2a3748434"
      },
      "outputs": [
        {
          "output_type": "stream",
          "name": "stdout",
          "text": [
            "Ingrese su nombre: Leonardo\n",
            "!Hola Leonardo!\n"
          ]
        }
      ],
      "source": [
        "nombre = input(\"Ingrese su nombre: \")\n",
        "print(\"!Hola \"+nombre+\"!\")"
      ]
    }
  ]
}
