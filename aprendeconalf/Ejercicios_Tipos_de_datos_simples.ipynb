{
  "nbformat": 4,
  "nbformat_minor": 0,
  "metadata": {
    "colab": {
      "name": "Ejercicios_Tipos_de_datos_simples.ipynb",
      "provenance": [],
      "authorship_tag": "ABX9TyMVNX6YUzm5xaTQ4+hme8OD",
      "include_colab_link": true
    },
    "kernelspec": {
      "name": "python3",
      "display_name": "Python 3"
    },
    "language_info": {
      "name": "python"
    }
  },
  "cells": [
    {
      "cell_type": "markdown",
      "metadata": {
        "id": "view-in-github",
        "colab_type": "text"
      },
      "source": [
        "<a href=\"https://colab.research.google.com/github/leonardoospinah/Python3/blob/main/Ejercicios_Tipos_de_datos_simples.ipynb\" target=\"_parent\"><img src=\"https://colab.research.google.com/assets/colab-badge.svg\" alt=\"Open In Colab\"/></a>"
      ]
    },
    {
      "cell_type": "markdown",
      "source": [
        "# ***Ejercicio 1***\n",
        "Escribir un programa que muestre por pantalla la cadena `¡Hola Mundo!.`"
      ],
      "metadata": {
        "id": "JHN-RjdqSO-0"
      }
    },
    {
      "cell_type": "code",
      "execution_count": 1,
      "metadata": {
        "colab": {
          "base_uri": "https://localhost:8080/"
        },
        "id": "vnM-IdVfSHLR",
        "outputId": "6d22c26a-cb6c-455e-ebef-c5f068bf7420"
      },
      "outputs": [
        {
          "output_type": "stream",
          "name": "stdout",
          "text": [
            "¡Hola Mundo!\n"
          ]
        }
      ],
      "source": [
        "print(\"¡Hola Mundo!\")"
      ]
    },
    {
      "cell_type": "markdown",
      "source": [
        "# ***Ejercicio 2***\n",
        "Escribir un programa que almacene la cadena `¡Hola Mundo!` en una variable y luego muestre por pantalla el contenido de la variable."
      ],
      "metadata": {
        "id": "i74kQZwzSh57"
      }
    },
    {
      "cell_type": "code",
      "source": [
        "texto = \"¡Hola mundo!\"\n",
        "print(texto)"
      ],
      "metadata": {
        "colab": {
          "base_uri": "https://localhost:8080/"
        },
        "id": "12ppAz7qSrAj",
        "outputId": "4765ead7-6953-45f4-b05b-24605a81899d"
      },
      "execution_count": 3,
      "outputs": [
        {
          "output_type": "stream",
          "name": "stdout",
          "text": [
            "¡Hola mundo!\n"
          ]
        }
      ]
    },
    {
      "cell_type": "markdown",
      "source": [
        "# ***Ejercicio 3***\n",
        "Escribir un programa que pregunte el nombre del usuario en la consola y después de que el usuario lo introduzca muestre por pantalla la cadena `¡Hola <nombre>!`, donde `<nombre>` es el nombre que el usuario haya introducido."
      ],
      "metadata": {
        "id": "uBXWcNnsS06f"
      }
    },
    {
      "cell_type": "code",
      "source": [
        "nombre = input(\"Ingrese nombre: \")\n",
        "print(\"¡Hola \"+nombre+\"!\")"
      ],
      "metadata": {
        "colab": {
          "base_uri": "https://localhost:8080/"
        },
        "id": "yDpRVOD5TCVn",
        "outputId": "dfd69a3d-1818-41d2-8e9e-8c5992470adb"
      },
      "execution_count": 4,
      "outputs": [
        {
          "output_type": "stream",
          "name": "stdout",
          "text": [
            "Ingrese nombre: Leonardo\n",
            "¡Hola Leonardo!\n"
          ]
        }
      ]
    },
    {
      "cell_type": "markdown",
      "source": [
        "# ***Ejercicio 4***\n",
        "Escribir un programa que muestre por pantalla el resultado de la siguiente operación aritmética $(\\frac{3+2}{2\\cdot 5})^2$"
      ],
      "metadata": {
        "id": "1GppOcWrTbG2"
      }
    },
    {
      "cell_type": "code",
      "source": [
        "print(((3+2)/(2*5))**2)"
      ],
      "metadata": {
        "colab": {
          "base_uri": "https://localhost:8080/"
        },
        "id": "P6XLcizHUSrR",
        "outputId": "925d0b6f-31e7-41f1-f4d1-daef0f479486"
      },
      "execution_count": 5,
      "outputs": [
        {
          "output_type": "stream",
          "name": "stdout",
          "text": [
            "0.25\n"
          ]
        }
      ]
    },
    {
      "cell_type": "markdown",
      "source": [
        "# ***Ejercicio 5***\n",
        "Escribir un programa que pregunte al usuario por el número de horas trabajadas y el coste por hora. Después debe mostrar por pantalla la paga que le corresponde."
      ],
      "metadata": {
        "id": "Ur9d1GAeUnYN"
      }
    },
    {
      "cell_type": "code",
      "source": [
        "horas_trabajadas = int(input(\"Ingrese la cantidad de horas trabajadas: \"))\n",
        "coste_hora = int(input(\"Ingrese el coste por hora: \"))\n",
        "print(\"Su paga es de = \"+str(coste_hora*horas_trabajadas)+\"$\")"
      ],
      "metadata": {
        "colab": {
          "base_uri": "https://localhost:8080/"
        },
        "id": "q9xZve-oUsvz",
        "outputId": "fa86577f-eaa2-48f8-f5b7-ba8ca59d6c2e"
      },
      "execution_count": 8,
      "outputs": [
        {
          "output_type": "stream",
          "name": "stdout",
          "text": [
            "Ingrese la cantidad de horas trabajadas: 10\n",
            "Ingrese el coste por hora: 4500\n",
            "Su paga es de = 45000$\n"
          ]
        }
      ]
    },
    {
      "cell_type": "markdown",
      "source": [
        "# ***Ejercicio 6***\n",
        "Escribir un programa que lea un entero positivo, `n`, introducido por el usuario y después muestre en pantalla la suma de todos los enteros desde 1 hasta `n`. La suma de los `n` primeros enteros positivos puede ser calculada de la siguiente forma:\n",
        "$suma=\\frac{n(n+1)}{2}$"
      ],
      "metadata": {
        "id": "GtFipc2sjZQO"
      }
    },
    {
      "cell_type": "code",
      "source": [
        "n = int(input(\"Ingrese un entero positivo: \"))\n",
        "print(\"La suma es = \"+str((n*(n+1))/(2)))"
      ],
      "metadata": {
        "colab": {
          "base_uri": "https://localhost:8080/"
        },
        "id": "cCzqjSivj02m",
        "outputId": "a2d5fcb9-7876-4182-8794-71dcd2baec79"
      },
      "execution_count": 11,
      "outputs": [
        {
          "output_type": "stream",
          "name": "stdout",
          "text": [
            "Ingrese un entero positivo: 10\n",
            "La suma es = 55.0\n"
          ]
        }
      ]
    },
    {
      "cell_type": "markdown",
      "source": [
        "# ***Ejercicio 7***\n",
        "Escribir un programa que pida al usuario su peso (en kg) y estatura (en metros), calcule el índice de masa corporal y lo almacene en una variable, y muestre por pantalla la frase `Tu índice de masa corporal es <imc>` donde `<imc>` es el índice de masa corporal calculado redondeado con dos decimales."
      ],
      "metadata": {
        "id": "o1dMmTCYlKMM"
      }
    },
    {
      "cell_type": "code",
      "source": [
        "peso = float(input(\"Ingrese su peso (kg): \"))\n",
        "estatura = float(input(\"Ingrese su estatura (m): \"))\n",
        "imc = round(((peso)/(estatura**2)),2)\n",
        "print(\"Tu índice de masa corporal es = \"+str(imc))"
      ],
      "metadata": {
        "colab": {
          "base_uri": "https://localhost:8080/"
        },
        "id": "0S2dKx1JlkGl",
        "outputId": "5637c0e7-9c57-446a-ce51-53707b8ff9ce"
      },
      "execution_count": 16,
      "outputs": [
        {
          "output_type": "stream",
          "name": "stdout",
          "text": [
            "Ingrese su peso (kg): 70.5\n",
            "Ingrese su estatura (m): 1.8\n",
            "Tu índice de masa corporal es = 21.76\n"
          ]
        }
      ]
    },
    {
      "cell_type": "markdown",
      "source": [
        "# ***Ejercicio 8***\n",
        "Escribir un programa que pida al usuario dos números enteros y muestre por pantalla la `<n> entre <m> da un cociente <c> y un resto <r>` donde `<n>` y `<m>` son los números introducidos por el usuario, y `<c>` y `<r>` son el cociente y el resto de la división entera respectivamente."
      ],
      "metadata": {
        "id": "jC2IubwHoo2C"
      }
    },
    {
      "cell_type": "code",
      "source": [
        "n = int(input(\"Ingrese numero 1: \"))\n",
        "m = int(input(\"Ingrese numero 2: \"))\n",
        "print(\"El cociente de la división es = \"+str(n//m))\n",
        "print(\"El resto de la división es = \"+str(n%m))"
      ],
      "metadata": {
        "colab": {
          "base_uri": "https://localhost:8080/"
        },
        "id": "BWQosHjQpEew",
        "outputId": "0ffa5f8c-539c-438f-f14d-53f2c28878b6"
      },
      "execution_count": 20,
      "outputs": [
        {
          "output_type": "stream",
          "name": "stdout",
          "text": [
            "Ingrese numero 1: 27\n",
            "Ingrese numero 2: 4\n",
            "El cociente de la división es = 6\n",
            "El resto de la división es = 3\n"
          ]
        }
      ]
    },
    {
      "cell_type": "markdown",
      "source": [
        "# ***Ejercicio 9***\n",
        "Escribir un programa que pregunte al usuario una cantidad a invertir, el interés anual y el número de años, y muestre por pantalla el capital obtenido en la inversión."
      ],
      "metadata": {
        "id": "VfBiR8jvtPec"
      }
    },
    {
      "cell_type": "code",
      "source": [
        "cantidad_invertir = int(input(\"Cantidad a invertir: \"))\n",
        "interes_anual = int(input(\"Interes anual: \"))\n",
        "numero_años = int(input(\"Numero años: \"))\n",
        "print(\"El capital generado por interes es = \"+str((((cantidad_invertir/100)*interes_anual)*numero_años)))"
      ],
      "metadata": {
        "colab": {
          "base_uri": "https://localhost:8080/"
        },
        "id": "DPhzeDQUtVNJ",
        "outputId": "e1e5324e-2de9-43f5-ba87-a45d6e87cbd8"
      },
      "execution_count": 36,
      "outputs": [
        {
          "output_type": "stream",
          "name": "stdout",
          "text": [
            "Cantidad a invertir: 1000\n",
            "Interes anual: 10\n",
            "Numero años: 5\n",
            "El capital generado por interes es = 500.0\n"
          ]
        }
      ]
    },
    {
      "cell_type": "markdown",
      "source": [
        "# ***Ejercicio 10***\n",
        "Una juguetería tiene mucho éxito en dos de sus productos: payasos y muñecas. Suele hacer venta por correo y la empresa de logística les cobra por peso de cada paquete así que deben calcular el peso de los payasos y muñecas que saldrán en cada paquete a demanda. Cada payaso pesa 112 g y cada muñeca 75 g. Escribir un programa que lea el número de payasos y muñecas vendidos en el último pedido y calcule el peso total del paquete que será enviado."
      ],
      "metadata": {
        "id": "xQYFtA0u8L-D"
      }
    },
    {
      "cell_type": "code",
      "source": [
        "muñecas = int(input(\"Ingrese la cantidad de muñecas del ultimo pedido: \"))\n",
        "payasos = int(input(\"Ingrese la cantidad de payasos del ultimo pedido: \"))\n",
        "print(\"El peso total del paquete es = \"+str((muñecas*75)+(payasos*112))+\"g\")"
      ],
      "metadata": {
        "colab": {
          "base_uri": "https://localhost:8080/"
        },
        "id": "507yfj-v1lZt",
        "outputId": "217628ec-6b8d-4110-89ca-60dd8dac90dc"
      },
      "execution_count": 38,
      "outputs": [
        {
          "output_type": "stream",
          "name": "stdout",
          "text": [
            "Ingrese la cantidad de muñecas del ultimo pedido: 30\n",
            "Ingrese la cantidad de payasos del ultimo pedido: 20\n",
            "El peso total del paquete es = 4490g\n"
          ]
        }
      ]
    },
    {
      "cell_type": "markdown",
      "source": [
        "# ***Ejercicio 11***\n",
        "Imagina que acabas de abrir una nueva cuenta de ahorros que te ofrece el 4% de interés al año. Estos ahorros debido a intereses, que no se cobran hasta finales de año, se te añaden al balance final de tu cuenta de ahorros. Escribir un programa que comience leyendo la cantidad de dinero depositada en la cuenta de ahorros, introducida por el usuario. Después el programa debe calcular y mostrar por pantalla la cantidad de ahorros tras el primer, segundo y tercer años. Redondear cada cantidad a dos decimales."
      ],
      "metadata": {
        "id": "hUyTV02O-oXe"
      }
    },
    {
      "cell_type": "code",
      "source": [
        "cantidad_depositada = int(input(\"Ingrese su cantidad depositada: \"))\n",
        "for x in range(3):\n",
        "  cantidad_depositada = (cantidad_depositada)+(cantidad_depositada/100)*4\n",
        "  print(\"El balance final del año #\"+str(x+1)+\" = \"+str(round(cantidad_depositada,2)))"
      ],
      "metadata": {
        "colab": {
          "base_uri": "https://localhost:8080/"
        },
        "id": "ACVEPO8f92Fl",
        "outputId": "65e187d6-0fe9-45a6-efa7-e9fa2a73384c"
      },
      "execution_count": 50,
      "outputs": [
        {
          "output_type": "stream",
          "name": "stdout",
          "text": [
            "Ingrese su cantidad depositada: 150000\n",
            "El balance final del año #1 = 156000.0\n",
            "El balance final del año #2 = 162240.0\n",
            "El balance final del año #3 = 168729.6\n"
          ]
        }
      ]
    },
    {
      "cell_type": "markdown",
      "source": [
        "# ***Ejercicio 12***\n",
        "Una panadería vende barras de pan a 3.49€ cada una. El pan que no es el día tiene un descuento del 60%. Escribir un programa que comience leyendo el número de barras vendidas que no son del día. Después el programa debe mostrar el precio habitual de una barra de pan, el descuento que se le hace por no ser fresca y el coste final total."
      ],
      "metadata": {
        "id": "DkrX4jC7QK6q"
      }
    },
    {
      "cell_type": "code",
      "source": [
        "panes_no_vendidos = int(input(\"Cantidad de barras de pan sin vender: \"))\n",
        "print(\"Precio habitual de barra de pan = 3.49€\")\n",
        "print(\"Si estuviera fresco = \"+str(panes_no_vendidos*3.49))\n",
        "print(\"Coste total = \"+str(round((panes_no_vendidos*3.49)-(panes_no_vendidos/100)*60*3.49,2)))"
      ],
      "metadata": {
        "colab": {
          "base_uri": "https://localhost:8080/"
        },
        "id": "7ErznWmpOPI-",
        "outputId": "4fe1931f-82f3-4dd6-b425-449bf66c09ac"
      },
      "execution_count": 68,
      "outputs": [
        {
          "output_type": "stream",
          "name": "stdout",
          "text": [
            "Cantidad de barras de pan sin vender: 30\n",
            "Precio habitual de barra de pan = 3.49€\n",
            "Si estuviera fresco = 104.7\n",
            "Coste total = 41.88\n"
          ]
        }
      ]
    },
    {
      "cell_type": "code",
      "source": [
        ""
      ],
      "metadata": {
        "id": "TOJTaiw0WU9D"
      },
      "execution_count": null,
      "outputs": []
    }
  ]
}
