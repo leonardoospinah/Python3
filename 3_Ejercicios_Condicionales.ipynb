{
  "nbformat": 4,
  "nbformat_minor": 0,
  "metadata": {
    "colab": {
      "name": "3_Ejercicios_Condicionales.ipynb",
      "provenance": [],
      "authorship_tag": "ABX9TyOON3I9N1fwXqaiQo4aDyUT",
      "include_colab_link": true
    },
    "kernelspec": {
      "name": "python3",
      "display_name": "Python 3"
    },
    "language_info": {
      "name": "python"
    }
  },
  "cells": [
    {
      "cell_type": "markdown",
      "metadata": {
        "id": "view-in-github",
        "colab_type": "text"
      },
      "source": [
        "<a href=\"https://colab.research.google.com/github/leonardoospinah/Python3/blob/main/3_Ejercicios_Condicionales.ipynb\" target=\"_parent\"><img src=\"https://colab.research.google.com/assets/colab-badge.svg\" alt=\"Open In Colab\"/></a>"
      ]
    },
    {
      "cell_type": "markdown",
      "source": [
        "# ***Ejercicio 1***\n",
        "Escribir un programa que pregunte al usuario su edad y muestre por pantalla si es mayor de edad o no."
      ],
      "metadata": {
        "id": "UzYKv39ovGPs"
      }
    },
    {
      "cell_type": "code",
      "source": [
        "edad = int(input(\"Ingrese su edad: \"))\n",
        "if edad>18:\n",
        "  print(\"Es mayor de edad\")\n",
        "else:\n",
        "  print(\"Es menor de edad\")"
      ],
      "metadata": {
        "colab": {
          "base_uri": "https://localhost:8080/"
        },
        "id": "xT-W9iQ02KuA",
        "outputId": "df2da6d2-0500-4a2b-e6e3-892381bab4a6"
      },
      "execution_count": 2,
      "outputs": [
        {
          "output_type": "stream",
          "name": "stdout",
          "text": [
            "Ingrese su edad: 15\n",
            "Es menor de edad\n"
          ]
        }
      ]
    },
    {
      "cell_type": "markdown",
      "source": [
        "# ***Ejercicio 2***\n",
        "Escribir un programa que almacene la cadena de caracteres `contraseña` en una variable, pregunte al usuario por la contraseña e imprima por pantalla si la contraseña introducida por el usuario coincide con la guardada en la variable sin tener en cuenta mayúsculas y minúsculas."
      ],
      "metadata": {
        "id": "Aty-bVHVvLz4"
      }
    },
    {
      "cell_type": "code",
      "source": [
        "contraseña = \"contraseña123\"\n",
        "contraseña_ingresada = input(\"Ingrese contraseña (No disitingue mayusculas): \").lower()\n",
        "if contraseña_ingresada == contraseña:\n",
        "  print(\"La contraseña coincide\")\n",
        "else:\n",
        "  print(\"Contraseña incorrecta\")"
      ],
      "metadata": {
        "colab": {
          "base_uri": "https://localhost:8080/"
        },
        "id": "SKlVND6z7DZs",
        "outputId": "8bd38e8b-93b1-489f-8b3c-ace8bd0be8ca"
      },
      "execution_count": 11,
      "outputs": [
        {
          "output_type": "stream",
          "name": "stdout",
          "text": [
            "Ingrese contraseña (No disitingue mayusculas): ConTRAseÑa123\n",
            "La contraseña coincide\n"
          ]
        }
      ]
    },
    {
      "cell_type": "markdown",
      "source": [
        "# ***Ejercicio 3***\n",
        "Escribir un programa que pida al usuario dos números y muestre por pantalla su división. Si el divisor es cero el programa debe mostrar un error."
      ],
      "metadata": {
        "id": "CrCIgXbdvUPP"
      }
    },
    {
      "cell_type": "code",
      "source": [
        "numero1 = int(input(\"Ingrese el numero 1: \"))\n",
        "numero2 = int(input(\"Ingrese el numero 2: \"))\n",
        "if numero2 == 0:\n",
        "  print(\"Error, division por cero\")\n",
        "else:\n",
        "  print(f\"{numero1}/{numero2} = {numero1/numero2}\")"
      ],
      "metadata": {
        "colab": {
          "base_uri": "https://localhost:8080/"
        },
        "id": "VF4QyFkR9JAf",
        "outputId": "48778149-a50e-4007-db43-8cc4a01b7f3f"
      },
      "execution_count": 14,
      "outputs": [
        {
          "output_type": "stream",
          "name": "stdout",
          "text": [
            "Ingrese el numero 1: 20\n",
            "Ingrese el numero 2: 0\n",
            "Error, division por cero\n"
          ]
        }
      ]
    },
    {
      "cell_type": "markdown",
      "source": [
        "# ***Ejercicio 4***\n",
        "Escribir un programa que pida al usuario un número entero y muestre por pantalla si es par o impar."
      ],
      "metadata": {
        "id": "jrSkYI38vYVU"
      }
    },
    {
      "cell_type": "code",
      "source": [
        "numero = int(input(\"Ingrese un numero entero: \"))\n",
        "if numero%2 == 0:\n",
        "  print(\"El numero es par\")\n",
        "else:\n",
        "  print(\"El numero es impar\")"
      ],
      "metadata": {
        "colab": {
          "base_uri": "https://localhost:8080/"
        },
        "id": "L2Wc1XBX9t-4",
        "outputId": "071c95f0-8915-439d-d2a0-a020751effbb"
      },
      "execution_count": 16,
      "outputs": [
        {
          "output_type": "stream",
          "name": "stdout",
          "text": [
            "Ingrese un numero entero: 21\n",
            "El numero es impar\n"
          ]
        }
      ]
    },
    {
      "cell_type": "markdown",
      "source": [
        "# ***Ejercicio 5***\n",
        "Para tributar un determinado impuesto se debe ser mayor de 16 años y tener unos ingresos iguales o superiores a 1000 € mensuales. Escribir un programa que pregunte al usuario su edad y sus ingresos mensuales y muestre por pantalla si el usuario tiene que tributar o no."
      ],
      "metadata": {
        "id": "gcUddt0TvcMr"
      }
    },
    {
      "cell_type": "code",
      "source": [
        "edad = int(input(\"Ingrese su edad: \"))\n",
        "ingresos = int(input(\"Ingresos mensuales: \"))\n",
        "if edad>16 and ingresos>1000:\n",
        "  print(\"Debe tributar\")\n",
        "else:\n",
        "  print(\"No tributa\")"
      ],
      "metadata": {
        "colab": {
          "base_uri": "https://localhost:8080/"
        },
        "id": "P3dIr_qg_e8t",
        "outputId": "e6b3cadc-bdd3-4a68-918a-a96c800ecbba"
      },
      "execution_count": 17,
      "outputs": [
        {
          "output_type": "stream",
          "name": "stdout",
          "text": [
            "Ingrese su edad: 17\n",
            "Ingresos mensuales: 2000\n",
            "Debe tributar\n"
          ]
        }
      ]
    },
    {
      "cell_type": "markdown",
      "source": [
        "# ***Ejercicio 6***\n",
        "Los alumnos de un curso se han dividido en dos grupos A y B de acuerdo al sexo y el nombre. El grupo A esta formado por las mujeres con un nombre anterior a la M y los hombres con un nombre posterior a la N y el grupo B por el resto. Escribir un programa que pregunte al usuario su nombre y sexo, y muestre por pantalla el grupo que le corresponde."
      ],
      "metadata": {
        "id": "YSPpAnw3vmbd"
      }
    },
    {
      "cell_type": "code",
      "source": [
        "nombre = input(\"Ingrese el nombre: \").lower()\n",
        "sexo = input(\"Ingrese su sexo (F o M): \").lower()\n",
        "if (sexo == 'f' and nombre <'m') or (sexo == 'm' and nombre>'n'):\n",
        "  print(\"Grupo A\")\n",
        "else:\n",
        "  print(\"Grupo B\")"
      ],
      "metadata": {
        "colab": {
          "base_uri": "https://localhost:8080/"
        },
        "id": "RJ_DX2rH_4U3",
        "outputId": "13db24c8-96e4-461c-d489-087a33dac223"
      },
      "execution_count": 25,
      "outputs": [
        {
          "output_type": "stream",
          "name": "stdout",
          "text": [
            "Ingrese el nombre: Carmen\n",
            "Ingrese su sexo (F o M): F\n",
            "Grupo A\n"
          ]
        }
      ]
    },
    {
      "cell_type": "markdown",
      "source": [
        "# ***Ejercicio 7***\n",
        "Los tramos impositivos para la declaración de la renta en un determinado país son los siguientes:\n",
        "\n",
        "|        Renta        |Tipo impositivo|\n",
        "|:-------------------:|:-------------:|\n",
        "|   Menos de 10000€   |\t      5%      |\n",
        "|Entre 10000€ y 20000€|\t      15%     |\n",
        "|Entre 20000€ y 35000€|\t      20%     |\n",
        "|Entre 35000€ y 60000€|\t      30%     |\n",
        "|    Más de 60000€    |\t      45%     |\n",
        "\n",
        "Escribir un programa que pregunte al usuario su renta anual y muestre por pantalla el tipo impositivo que le corresponde."
      ],
      "metadata": {
        "id": "2lvBfs_nvqpk"
      }
    },
    {
      "cell_type": "code",
      "source": [
        "renta = int(input(\"Ingrese su renta anual: \"))\n",
        "if renta < 10000:\n",
        "  print(\"Su tipo de impositivo corresponde al 5%\")\n",
        "elif renta < 20000:\n",
        "  print(\"Su tipo de impositivo corresponde al 15%\")\n",
        "elif renta < 35000:\n",
        "  print(\"Su tipo de impositivo corresponde al 20%\")\n",
        "elif renta < 60000:\n",
        "  print(\"Su tipo de impositivo corresponde al 30%\")\n",
        "else:\n",
        "  print(\"Su tipo de impositivo corresponde al 45%\")"
      ],
      "metadata": {
        "colab": {
          "base_uri": "https://localhost:8080/"
        },
        "id": "ddijy96pROC6",
        "outputId": "066db6d0-b60c-4c14-b1e2-49d3d8aeb01c"
      },
      "execution_count": 26,
      "outputs": [
        {
          "output_type": "stream",
          "name": "stdout",
          "text": [
            "Ingrese su renta anual: 18000\n",
            "Su tipo de impositivo corresponde al 15%\n"
          ]
        }
      ]
    },
    {
      "cell_type": "markdown",
      "source": [
        "# ***Ejercicio 8***\n",
        "En una determinada empresa, sus empleados son evaluados al final de cada año. Los puntos que pueden obtener en la evaluación comienzan en 0.0 y pueden ir aumentando, traduciéndose en mejores beneficios. Los puntos que pueden conseguir los empleados pueden ser 0.0, 0.4, 0.6 o más, pero no valores intermedios entre las cifras mencionadas. A continuación se muestra una tabla con los niveles correspondientes a cada puntuación. La cantidad de dinero conseguida en cada nivel es de 2.400€ multiplicada por la puntuación del nivel.\n",
        "\n",
        "|   Nivel   |Puntuación |\n",
        "|:---------:|:---------:|\n",
        "|Inaceptable|\t   0.0    |\n",
        "| Aceptable |\t   0.4    |\n",
        "| Meritorio | 0.6 o más |\n",
        "\n",
        "Escribir un programa que lea la puntuación del usuario e indique su nivel de rendimiento, así como la cantidad de dinero que recibirá el usuario."
      ],
      "metadata": {
        "id": "0jsQVMXDyHtr"
      }
    },
    {
      "cell_type": "code",
      "source": [
        "puntuacion = float(input(\"Ingrese su valor en puntuación: \"))\n",
        "if puntuacion == 0.0:\n",
        "  print('Su nivel de rendimiento es \"Inaceptable\" por lo tanto su cantidad recibida sera = 0€')\n",
        "elif puntuacion == 0.4:\n",
        "  print(f'Su nivel de rendimiento es \"Aceptable\" por lo tanto su cantidad recibida sera = {0.4*2400}€')\n",
        "elif puntuacion >= 0.6:\n",
        "  print(f'Su nivel de rendimiento es \"Meritorio\" por lo tanto su cantidad recibida sera = {0.6*2400}€')\n",
        "else:\n",
        "  print(\"Ingrese un valor valido\")"
      ],
      "metadata": {
        "colab": {
          "base_uri": "https://localhost:8080/"
        },
        "id": "sbmJNtXwUO7J",
        "outputId": "338a96e6-1a39-49b5-e97d-e9047bf6becd"
      },
      "execution_count": 28,
      "outputs": [
        {
          "output_type": "stream",
          "name": "stdout",
          "text": [
            "Ingrese su valor en puntuación: 0.6\n",
            "Su nivel de rendimiento es \"Aceptable\" por lo tanto su cantidad recibida sera = 1440.0€\n"
          ]
        }
      ]
    },
    {
      "cell_type": "markdown",
      "source": [
        "# ***Ejercicio 9***\n",
        "Escribir un programa para una empresa que tiene salas de juegos para todas las edades y quiere calcular de forma automática el precio que debe cobrar a sus clientes por entrar. El programa debe preguntar al usuario la edad del cliente y mostrar el precio de la entrada. Si el cliente es menor de 4 años puede entrar gratis, si tiene entre 4 y 18 años debe pagar 5€ y si es mayor de 18 años, 10€."
      ],
      "metadata": {
        "id": "d4sDmng6yyqr"
      }
    },
    {
      "cell_type": "code",
      "source": [
        "edad = int(input(\"Ingrese la edad del cliente: \"))\n",
        "if edad < 4:\n",
        "  print(\"Entrada gratis\")\n",
        "elif edad < 18:\n",
        "  print(\"Debe pagar 5€\")\n",
        "else:\n",
        "  print(\"Debe pagar 10€\")"
      ],
      "metadata": {
        "colab": {
          "base_uri": "https://localhost:8080/"
        },
        "id": "fIwmzn2UWy-v",
        "outputId": "113d9994-34d1-42f9-c5b8-004e11856159"
      },
      "execution_count": 29,
      "outputs": [
        {
          "output_type": "stream",
          "name": "stdout",
          "text": [
            "Ingrese la edad del cliente: 19\n",
            "Debe pagar 10€\n"
          ]
        }
      ]
    },
    {
      "cell_type": "markdown",
      "source": [
        "# ***Ejercicio 10***\n",
        "La pizzería Bella Napoli ofrece pizzas vegetarianas y no vegetarianas a sus clientes. Los ingredientes para cada tipo de pizza aparecen a continuación.\n",
        "\n",
        "* Ingredientes vegetarianos: Pimiento y tofu.\n",
        "* Ingredientes no vegetarianos: Peperoni, Jamón y Salmón.\n",
        "\n",
        "Escribir un programa que pregunte al usuario si quiere una pizza vegetariana o no, y en función de su respuesta le muestre un menú con los ingredientes disponibles para que elija. Solo se puede eligir un ingrediente además de la mozzarella y el tomate que están en todas la pizzas. Al final se debe mostrar por pantalla si la pizza elegida es vegetariana o no y todos los ingredientes que lleva."
      ],
      "metadata": {
        "id": "-0km6ZbVy6fs"
      }
    },
    {
      "cell_type": "code",
      "source": [
        "vegetarianos = ['Pimiento','Tofu']\n",
        "no_vegetarianos = ['Peperoni','Jamón','Salmón']\n",
        "ingredientes = ['Mozzarella','Tomate']\n",
        "tipo_de_pizza = input(\"¿Desea pizza vegetariana? (Si/No): \").lower()\n",
        "if tipo_de_pizza == 'si':\n",
        "  for x in vegetarianos:\n",
        "    if input(f\"Desea {x} (Si/No): \").lower() == 'si':\n",
        "      ingredientes.append(x)\n",
        "  print(\"Su pizza vegetariana tiene los siguientes ingredientes:\",*ingredientes)\n",
        "else:\n",
        "  for x in no_vegetarianos:\n",
        "    if input(f\"Desea {x} (Si/No): \").lower() == 'si':\n",
        "      ingredientes.append(x)\n",
        "  print(\"Su pizza tiene los siguientes ingredientes:\",*ingredientes)"
      ],
      "metadata": {
        "colab": {
          "base_uri": "https://localhost:8080/"
        },
        "id": "OEjd-BxqXszW",
        "outputId": "9558ab73-5b14-42a5-f12d-007e166bd5a8"
      },
      "execution_count": 44,
      "outputs": [
        {
          "output_type": "stream",
          "name": "stdout",
          "text": [
            "¿Desea pizza vegetariana? (Si/No): No\n",
            "Desea Peperoni (Si/No): Si\n",
            "Desea Jamón (Si/No): si\n",
            "Desea Salmón (Si/No): no\n",
            "Su pizza tiene los siguientes ingredientes: Mozzarella Tomate Peperoni Jamón\n"
          ]
        }
      ]
    }
  ]
}