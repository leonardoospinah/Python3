{
  "nbformat": 4,
  "nbformat_minor": 0,
  "metadata": {
    "colab": {
      "name": "4_Ejercicios_Bucels.ipynb",
      "provenance": [],
      "collapsed_sections": [],
      "authorship_tag": "ABX9TyObh6iZU4LebIWzd2f8o4RN",
      "include_colab_link": true
    },
    "kernelspec": {
      "name": "python3",
      "display_name": "Python 3"
    },
    "language_info": {
      "name": "python"
    }
  },
  "cells": [
    {
      "cell_type": "markdown",
      "metadata": {
        "id": "view-in-github",
        "colab_type": "text"
      },
      "source": [
        "<a href=\"https://colab.research.google.com/github/leonardoospinah/Python3/blob/main/4_Ejercicios_Bucels.ipynb\" target=\"_parent\"><img src=\"https://colab.research.google.com/assets/colab-badge.svg\" alt=\"Open In Colab\"/></a>"
      ]
    },
    {
      "cell_type": "markdown",
      "source": [
        "# ***Ejercicio 1***\n",
        "Escribir un programa que pida al usuario una palabra y la muestre por pantalla 10 veces."
      ],
      "metadata": {
        "id": "QbAQpJ2-GowH"
      }
    },
    {
      "cell_type": "code",
      "source": [
        "palabra = input(\"Ingrese una palabra: \")\n",
        "for x in range(10):\n",
        "  print(palabra)"
      ],
      "metadata": {
        "colab": {
          "base_uri": "https://localhost:8080/"
        },
        "id": "vBupcQJfI8ng",
        "outputId": "297e0e98-eb2b-40c1-95bf-a42d56cc22c3"
      },
      "execution_count": null,
      "outputs": [
        {
          "output_type": "stream",
          "name": "stdout",
          "text": [
            "Ingrese una palabra: Arroz\n",
            "Arroz\n",
            "Arroz\n",
            "Arroz\n",
            "Arroz\n",
            "Arroz\n",
            "Arroz\n",
            "Arroz\n",
            "Arroz\n",
            "Arroz\n",
            "Arroz\n"
          ]
        }
      ]
    },
    {
      "cell_type": "markdown",
      "source": [
        "# ***Ejercicio 2***\n",
        "Escribir un programa que pregunte al usuario su edad y muestre por pantalla todos los años que ha cumplido (desde 1 hasta su edad)."
      ],
      "metadata": {
        "id": "VTdku3ZlGuVW"
      }
    },
    {
      "cell_type": "code",
      "source": [
        "edad = int(input(\"Ingrese su edad: \"))\n",
        "for x in range(edad):\n",
        "  print(f\"Has cumplido {str(x+1)} años\")"
      ],
      "metadata": {
        "colab": {
          "base_uri": "https://localhost:8080/"
        },
        "id": "Gg6tn-4yJKc8",
        "outputId": "217f4567-60e9-4dc2-8636-124c3a7acfb2"
      },
      "execution_count": null,
      "outputs": [
        {
          "output_type": "stream",
          "name": "stdout",
          "text": [
            "Ingrese su edad: 7\n",
            "Has cumplido 1 años\n",
            "Has cumplido 2 años\n",
            "Has cumplido 3 años\n",
            "Has cumplido 4 años\n",
            "Has cumplido 5 años\n",
            "Has cumplido 6 años\n",
            "Has cumplido 7 años\n"
          ]
        }
      ]
    },
    {
      "cell_type": "markdown",
      "source": [
        "# ***Ejercicio 3***\n",
        "Escribir un programa que pida al usuario un número entero positivo y muestre por pantalla todos los números impares desde 1 hasta ese número separados por comas."
      ],
      "metadata": {
        "id": "chzIhZNUGx3P"
      }
    },
    {
      "cell_type": "code",
      "source": [
        "numero = int(input(\"Ingrese un entero positivo: \"))\n",
        "for x in range(numero):\n",
        "  if x%2 == 1:\n",
        "    print(x,end=\",\")"
      ],
      "metadata": {
        "colab": {
          "base_uri": "https://localhost:8080/"
        },
        "id": "M_DZWBVGKXSg",
        "outputId": "7edd1c61-5d2e-4248-d841-e99c7c747ca1"
      },
      "execution_count": null,
      "outputs": [
        {
          "output_type": "stream",
          "name": "stdout",
          "text": [
            "Ingrese un entero positivo: 10\n",
            "1,3,5,7,9,"
          ]
        }
      ]
    },
    {
      "cell_type": "markdown",
      "source": [
        "# ***Ejercicio 4***\n",
        "Escribir un programa que pida al usuario un número entero positivo y muestre por pantalla la cuenta atrás desde ese número hasta cero separados por comas."
      ],
      "metadata": {
        "id": "KZa2dSAQG2J-"
      }
    },
    {
      "cell_type": "code",
      "source": [
        "numero = int(input(\"Ingrese un entero positivo: \"))\n",
        "for x in reversed(range(numero)):\n",
        "  print(x,end=',')"
      ],
      "metadata": {
        "colab": {
          "base_uri": "https://localhost:8080/"
        },
        "id": "0LIv759WLxPR",
        "outputId": "997b361a-840b-499c-be4e-02c5eb37995a"
      },
      "execution_count": null,
      "outputs": [
        {
          "output_type": "stream",
          "name": "stdout",
          "text": [
            "Ingrese un entero positivo: 10\n",
            "9,8,7,6,5,4,3,2,1,0,"
          ]
        }
      ]
    },
    {
      "cell_type": "markdown",
      "source": [
        "# ***Ejercicio 5***\n",
        "Escribir un programa que pregunte al usuario una cantidad a invertir, el interés anual y el número de años, y muestre por pantalla el capital obtenido en la inversión cada año que dura la inversión."
      ],
      "metadata": {
        "id": "b0tCkSoeHAmd"
      }
    },
    {
      "cell_type": "code",
      "source": [
        "capital = float(input(\"Ingrese el capital que desea invertir: \"))\n",
        "interes_anual = float(input(\"Ingrese el interes anual: \"))\n",
        "años = int(input(\"Ingrese la cantidad de años: \"))\n",
        "for x in range(años):\n",
        "  capital += ((capital/100)*interes_anual)\n",
        "  print(f\"El año {x+1} su capital es = {round(capital,2)}\")"
      ],
      "metadata": {
        "colab": {
          "base_uri": "https://localhost:8080/"
        },
        "id": "DEn08jM6OJGn",
        "outputId": "49fc439a-473c-4699-c151-734045a70b7e"
      },
      "execution_count": null,
      "outputs": [
        {
          "output_type": "stream",
          "name": "stdout",
          "text": [
            "Ingrese el capital que desea invertir: 1000\n",
            "Ingrese el interes anual: 10\n",
            "Ingrese la cantidad de años: 5\n",
            "El año 1 su capital es = 1100.0\n",
            "El año 2 su capital es = 1210.0\n",
            "El año 3 su capital es = 1331.0\n",
            "El año 4 su capital es = 1464.1\n",
            "El año 5 su capital es = 1610.51\n"
          ]
        }
      ]
    },
    {
      "cell_type": "markdown",
      "source": [
        "# ***Ejercicio 6***\n",
        "Escribir un programa que pida al usuario un número entero y muestre por pantalla un triángulo rectángulo como el de más abajo, de altura el número introducido.\n",
        "\n",
        "```\n",
        "*\n",
        "**\n",
        "***\n",
        "****\n",
        "*****\n",
        "```"
      ],
      "metadata": {
        "id": "AEdkaUokHDpM"
      }
    },
    {
      "cell_type": "code",
      "source": [
        "numero = int(input(\"Ingrese un numero entero: \"))\n",
        "for x in range(numero+1):\n",
        "  print(\"*\"*x)"
      ],
      "metadata": {
        "colab": {
          "base_uri": "https://localhost:8080/"
        },
        "id": "qqZDNNpYRo-w",
        "outputId": "2d996cf9-af99-46cd-a996-07d35bbb11b0"
      },
      "execution_count": null,
      "outputs": [
        {
          "output_type": "stream",
          "name": "stdout",
          "text": [
            "Ingrese un numero entero: 10\n",
            "\n",
            "*\n",
            "**\n",
            "***\n",
            "****\n",
            "*****\n",
            "******\n",
            "*******\n",
            "********\n",
            "*********\n",
            "**********\n"
          ]
        }
      ]
    },
    {
      "cell_type": "markdown",
      "source": [
        "# ***Ejercicio 7***\n",
        "Escribir un programa que muestre por pantalla la tabla de multiplicar del 1 al 10."
      ],
      "metadata": {
        "id": "7ZR9c5OcHc4r"
      }
    },
    {
      "cell_type": "code",
      "source": [
        "for i in range (1,11):\n",
        "  for j in range (1,11):\n",
        "    print(f\"{i} x {j} = {(i*j)}\",end=\"\\t\")\n",
        "  print(\"\")"
      ],
      "metadata": {
        "id": "SVt_xyYeXu_J",
        "colab": {
          "base_uri": "https://localhost:8080/"
        },
        "outputId": "eecaa05f-0aea-4c7a-b9a4-94e13426b91c"
      },
      "execution_count": 22,
      "outputs": [
        {
          "output_type": "stream",
          "name": "stdout",
          "text": [
            "1 x 1 = 1\t1 x 2 = 2\t1 x 3 = 3\t1 x 4 = 4\t1 x 5 = 5\t1 x 6 = 6\t1 x 7 = 7\t1 x 8 = 8\t1 x 9 = 9\t1 x 10 = 10\t\n",
            "2 x 1 = 2\t2 x 2 = 4\t2 x 3 = 6\t2 x 4 = 8\t2 x 5 = 10\t2 x 6 = 12\t2 x 7 = 14\t2 x 8 = 16\t2 x 9 = 18\t2 x 10 = 20\t\n",
            "3 x 1 = 3\t3 x 2 = 6\t3 x 3 = 9\t3 x 4 = 12\t3 x 5 = 15\t3 x 6 = 18\t3 x 7 = 21\t3 x 8 = 24\t3 x 9 = 27\t3 x 10 = 30\t\n",
            "4 x 1 = 4\t4 x 2 = 8\t4 x 3 = 12\t4 x 4 = 16\t4 x 5 = 20\t4 x 6 = 24\t4 x 7 = 28\t4 x 8 = 32\t4 x 9 = 36\t4 x 10 = 40\t\n",
            "5 x 1 = 5\t5 x 2 = 10\t5 x 3 = 15\t5 x 4 = 20\t5 x 5 = 25\t5 x 6 = 30\t5 x 7 = 35\t5 x 8 = 40\t5 x 9 = 45\t5 x 10 = 50\t\n",
            "6 x 1 = 6\t6 x 2 = 12\t6 x 3 = 18\t6 x 4 = 24\t6 x 5 = 30\t6 x 6 = 36\t6 x 7 = 42\t6 x 8 = 48\t6 x 9 = 54\t6 x 10 = 60\t\n",
            "7 x 1 = 7\t7 x 2 = 14\t7 x 3 = 21\t7 x 4 = 28\t7 x 5 = 35\t7 x 6 = 42\t7 x 7 = 49\t7 x 8 = 56\t7 x 9 = 63\t7 x 10 = 70\t\n",
            "8 x 1 = 8\t8 x 2 = 16\t8 x 3 = 24\t8 x 4 = 32\t8 x 5 = 40\t8 x 6 = 48\t8 x 7 = 56\t8 x 8 = 64\t8 x 9 = 72\t8 x 10 = 80\t\n",
            "9 x 1 = 9\t9 x 2 = 18\t9 x 3 = 27\t9 x 4 = 36\t9 x 5 = 45\t9 x 6 = 54\t9 x 7 = 63\t9 x 8 = 72\t9 x 9 = 81\t9 x 10 = 90\t\n",
            "10 x 1 = 10\t10 x 2 = 20\t10 x 3 = 30\t10 x 4 = 40\t10 x 5 = 50\t10 x 6 = 60\t10 x 7 = 70\t10 x 8 = 80\t10 x 9 = 90\t10 x 10 = 100\t\n"
          ]
        }
      ]
    },
    {
      "cell_type": "markdown",
      "source": [
        "# ***Ejercicio 8***\n",
        "Escribir un programa que pida al usuario un número entero y muestre por pantalla un triángulo rectángulo como el de más abajo.\n",
        "\n",
        "```\n",
        "1\n",
        "3 1\n",
        "5 3 1\n",
        "7 5 3 1\n",
        "9 7 5 3 1\n",
        "```"
      ],
      "metadata": {
        "id": "BkuWlQPOHifN"
      }
    },
    {
      "cell_type": "code",
      "source": [
        "numero = int(input(\"Ingrese un numero entero positivo: \"))\n",
        "for i in range(1,numero+1,2):\n",
        "  for j in range(i,0,-2):\n",
        "    print(j, end=\" \")\n",
        "  print(\"\")"
      ],
      "metadata": {
        "colab": {
          "base_uri": "https://localhost:8080/"
        },
        "id": "ql_p7ujdAYnY",
        "outputId": "7386208d-24db-49dd-8177-d9fd4b08c589"
      },
      "execution_count": 41,
      "outputs": [
        {
          "output_type": "stream",
          "name": "stdout",
          "text": [
            "Ingrese un numero entero positivo: 10\n",
            "1 \n",
            "3 1 \n",
            "5 3 1 \n",
            "7 5 3 1 \n",
            "9 7 5 3 1 \n"
          ]
        }
      ]
    },
    {
      "cell_type": "markdown",
      "source": [
        "# ***Ejercicio 9***\n",
        "Escribir un programa que almacene la cadena de caracteres `contraseña` en una variable, pregunte al usuario por la contraseña hasta que introduzca la contraseña correcta."
      ],
      "metadata": {
        "id": "cmkQguk6HrZa"
      }
    },
    {
      "cell_type": "code",
      "source": [
        "contraseña = \"Contraseña123.\"\n",
        "validacion = input(\"Ingrese la contraseña: \")\n",
        "while validacion != contraseña:\n",
        "  validacion = input(\"\\nContraseña incorrecta \\nIngrese nuevamente la contraseña: \")\n",
        "print(\"\\nContraseña validada\")"
      ],
      "metadata": {
        "colab": {
          "base_uri": "https://localhost:8080/"
        },
        "id": "QZJBMpVsI1YR",
        "outputId": "8e9f8270-e65f-4c4d-87fc-d3bd992d1f2b"
      },
      "execution_count": 44,
      "outputs": [
        {
          "output_type": "stream",
          "name": "stdout",
          "text": [
            "Ingrese la contraseña: ContraseÑA123\n",
            "\n",
            "Contraseña incorrecta \n",
            "Ingrese nuevamente la contraseña: Contraseña123.\n",
            "\n",
            "Contraseña validada\n"
          ]
        }
      ]
    },
    {
      "cell_type": "markdown",
      "source": [
        "# ***Ejercicio 10***\n",
        "Escribir un programa que pida al usuario un número entero y muestre por pantalla si es un número primo o no."
      ],
      "metadata": {
        "id": "TUX7HT7nHzGf"
      }
    },
    {
      "cell_type": "code",
      "source": [
        "n = int(input(\"Introduce un número entero positivo mayor que 2: \"))\n",
        "i = 2\n",
        "while n % i != 0:\n",
        "    i += 1\n",
        "if i == n:\n",
        "    print(str(n) + \" es primo\")\n",
        "else:\n",
        "    print(str(n) + \" no es primo\")"
      ],
      "metadata": {
        "colab": {
          "base_uri": "https://localhost:8080/"
        },
        "id": "DV0YXtdrKG_u",
        "outputId": "69c22059-fee8-468c-f7de-cd2c3fe0a133"
      },
      "execution_count": 5,
      "outputs": [
        {
          "output_type": "stream",
          "name": "stdout",
          "text": [
            "Introduce un número entero positivo mayor que 2: 4\n",
            "4 no es primo\n"
          ]
        }
      ]
    },
    {
      "cell_type": "markdown",
      "source": [
        "# ***Ejercicio 11***\n",
        "Escribir un programa que pida al usuario una palabra y luego muestre por pantalla una a una las letras de la palabra introducida empezando por la última."
      ],
      "metadata": {
        "id": "owBnB8yWH3Os"
      }
    },
    {
      "cell_type": "code",
      "source": [
        "palabra = input(\"Ingrese una palabra: \")\n",
        "for x in range(len(palabra)-1,-1,-1):\n",
        "  print(palabra[x])"
      ],
      "metadata": {
        "colab": {
          "base_uri": "https://localhost:8080/"
        },
        "id": "gX2Wzm6E-GOc",
        "outputId": "233c1c07-0ca8-4063-aca1-48f1de95091c"
      },
      "execution_count": 25,
      "outputs": [
        {
          "output_type": "stream",
          "name": "stdout",
          "text": [
            "Ingrese una palabra: Perro\n",
            "o\n",
            "r\n",
            "r\n",
            "e\n",
            "P\n"
          ]
        }
      ]
    },
    {
      "cell_type": "markdown",
      "source": [
        "# ***Ejercicio 12***\n",
        "Escribir un programa en el que se pregunte al usuario por una frase y una letra, y muestre por pantalla el número de veces que aparece la letra en la frase."
      ],
      "metadata": {
        "id": "jpjbJhhSH7pe"
      }
    },
    {
      "cell_type": "code",
      "source": [
        "frase = input(\"Ingrese una frase: \")\n",
        "letra = input(\"Ingrese una letra: \")\n",
        "contador = 0\n",
        "for x in range(len(frase)):\n",
        "  if letra in frase[x]:\n",
        "    contador += 1\n",
        "print(f\"La cantidad de veces que aparece la letra '{letra}' en la frase son: {contador}\")"
      ],
      "metadata": {
        "colab": {
          "base_uri": "https://localhost:8080/"
        },
        "id": "d0a2Q-dS_ntx",
        "outputId": "905253fd-9f6c-4afc-c86c-8cb10fc74835"
      },
      "execution_count": 30,
      "outputs": [
        {
          "output_type": "stream",
          "name": "stdout",
          "text": [
            "Ingrese una frase: Quiero comida :(\n",
            "Ingrese una letra: o\n",
            "La cantidad de veces que aparece la letra 'o' en la frase son: 2\n"
          ]
        }
      ]
    },
    {
      "cell_type": "markdown",
      "source": [
        "# ***Ejercicio 13***\n",
        "Escribir un programa que muestre el eco de todo lo que el usuario introduzca hasta que el usuario escriba “salir” que terminará."
      ],
      "metadata": {
        "id": "bkSeOKJoIFMC"
      }
    },
    {
      "cell_type": "code",
      "source": [
        "frase = input(\"Ingrese una frase: \")\n",
        "salir = \"\"\n",
        "while salir != \"salir\":\n",
        "  print(f\"\\n{frase}\")\n",
        "  salir = input('¿Desea salir? Escriba la frase \"salir\": ').lower()"
      ],
      "metadata": {
        "colab": {
          "base_uri": "https://localhost:8080/"
        },
        "id": "IFG2AQ3GISro",
        "outputId": "6d95b25e-9788-4c2a-af45-23bbcc50f336"
      },
      "execution_count": 34,
      "outputs": [
        {
          "name": "stdout",
          "output_type": "stream",
          "text": [
            "Ingrese una frase: Arroz con pollo\n",
            "\n",
            "Arroz con pollo\n",
            "¿Desea salir? Escriba la frase \"salir\": No\n",
            "\n",
            "Arroz con pollo\n",
            "¿Desea salir? Escriba la frase \"salir\": Aun no\n",
            "\n",
            "Arroz con pollo\n",
            "¿Desea salir? Escriba la frase \"salir\": SALIR\n"
          ]
        }
      ]
    }
  ]
}