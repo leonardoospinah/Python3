{
  "nbformat": 4,
  "nbformat_minor": 0,
  "metadata": {
    "colab": {
      "name": "5_Ejercicios_Listas_y_Tuplas.ipynb",
      "provenance": [],
      "authorship_tag": "ABX9TyN3JuJuUNZmlejkBSCI+vGM",
      "include_colab_link": true
    },
    "kernelspec": {
      "name": "python3",
      "display_name": "Python 3"
    },
    "language_info": {
      "name": "python"
    }
  },
  "cells": [
    {
      "cell_type": "markdown",
      "metadata": {
        "id": "view-in-github",
        "colab_type": "text"
      },
      "source": [
        "<a href=\"https://colab.research.google.com/github/leonardoospinah/Python3/blob/main/5_Ejercicios_Listas_y_Tuplas.ipynb\" target=\"_parent\"><img src=\"https://colab.research.google.com/assets/colab-badge.svg\" alt=\"Open In Colab\"/></a>"
      ]
    },
    {
      "cell_type": "markdown",
      "source": [
        "# ***Ejercicio 1***\n",
        "Escribir un programa que almacene las asignaturas de un curso (por ejemplo Matemáticas, Física, Química, Historia y Lengua) en una lista y la muestre por pantalla."
      ],
      "metadata": {
        "id": "xdhO42BsNWTB"
      }
    },
    {
      "cell_type": "code",
      "source": [
        "asignaturas = [\"Matematicas\",\"Fisica\",\"Quimica\",\"Historia\",\"Lengua\"]\n",
        "print(*asignaturas)"
      ],
      "metadata": {
        "colab": {
          "base_uri": "https://localhost:8080/"
        },
        "id": "JAFlFsfahuOV",
        "outputId": "c9515ff3-824f-496b-cfb0-9c340f3b771b"
      },
      "execution_count": null,
      "outputs": [
        {
          "output_type": "stream",
          "name": "stdout",
          "text": [
            "Matematicas Fisica Quimica Historia Lengua\n"
          ]
        }
      ]
    },
    {
      "cell_type": "markdown",
      "source": [
        "# ***Ejercicio 2***\n",
        "Escribir un programa que almacene las asignaturas de un curso (por ejemplo Matemáticas, Física, Química, Historia y Lengua) en una lista y la muestre por pantalla el mensaje `Yo estudio <asignatura>`, donde `<asignatura>` es cada una de las asignaturas de la lista."
      ],
      "metadata": {
        "id": "OtEH8AneNv4s"
      }
    },
    {
      "cell_type": "code",
      "source": [
        "asignaturas = [\"Matematicas\",\"Fisica\",\"Quimica\",\"Historia\",\"Lengua\"]\n",
        "for x in asignaturas:\n",
        "    print(\"Yo estudio \" + x)"
      ],
      "metadata": {
        "colab": {
          "base_uri": "https://localhost:8080/"
        },
        "id": "rzEA4yXsjMp6",
        "outputId": "1aa9e8e7-1f41-4274-d734-54c4c5d154e7"
      },
      "execution_count": null,
      "outputs": [
        {
          "output_type": "stream",
          "name": "stdout",
          "text": [
            "Yo estudio Matematicas\n",
            "Yo estudio Fisica\n",
            "Yo estudio Quimica\n",
            "Yo estudio Historia\n",
            "Yo estudio Lengua\n"
          ]
        }
      ]
    },
    {
      "cell_type": "markdown",
      "source": [
        "# ***Ejercicio 3***\n",
        "Escribir un programa que almacene las asignaturas de un curso (por ejemplo Matemáticas, Física, Química, Historia y Lengua) en una lista, pregunte al usuario la nota que ha sacado en cada asignatura, y después las muestre por pantalla con el mensaje `En <asignatura> has sacado <nota>` donde `<asignatura>` es cada una des las asignaturas de la lista y `<nota>` cada una de las correspondientes notas introducidas por el usuario."
      ],
      "metadata": {
        "id": "ImSOBxeLOCdg"
      }
    },
    {
      "cell_type": "code",
      "source": [
        "asignaturas = [\"Matematicas\",\"Fisica\",\"Quimica\",\"Historia\",\"Lengua\"]\n",
        "notas = []\n",
        "for x in asignaturas:\n",
        "  nota = notas.append(input(f\"Ingrese su nota en {x}: \"))\n",
        "print(\"\")\n",
        "for x in range(len(asignaturas)):\n",
        "  print(f\"Su nota en {asignaturas[x]} es {notas[x]}\")"
      ],
      "metadata": {
        "colab": {
          "base_uri": "https://localhost:8080/"
        },
        "id": "16wEuQOElRv7",
        "outputId": "266b6825-1458-41e8-e6b0-aead7f530ef0"
      },
      "execution_count": null,
      "outputs": [
        {
          "output_type": "stream",
          "name": "stdout",
          "text": [
            "Ingrese su nota en Matematicas: 10\n",
            "Ingrese su nota en Fisica: 20\n",
            "Ingrese su nota en Quimica: 30\n",
            "Ingrese su nota en Historia: 40\n",
            "Ingrese su nota en Lengua: 50\n",
            "\n",
            "Su nota en Matematicas es 10\n",
            "Su nota en Fisica es 20\n",
            "Su nota en Quimica es 30\n",
            "Su nota en Historia es 40\n",
            "Su nota en Lengua es 50\n"
          ]
        }
      ]
    },
    {
      "cell_type": "markdown",
      "source": [
        "# ***Ejercicio 4***\n",
        "Escribir un programa que pregunte al usuario los números ganadores de la lotería primitiva, los almacene en una lista y los muestre por pantalla ordenados de menor a mayor."
      ],
      "metadata": {
        "id": "3vWBjkVDOf3h"
      }
    },
    {
      "cell_type": "code",
      "source": [
        "numeros_ganadores = []\n",
        "cantidad_ganadores = int(input(\"Ingrese la cantidad de numeros ganadores: \"))\n",
        "print(\"\")\n",
        "for x in range(cantidad_ganadores):\n",
        "  numeros_ganadores.append(int(input(f\"Ingrese el numero ganador #{x+1}: \")))\n",
        "numeros_ganadores.sort()\n",
        "print(\"Los numeros ganadores son: \"+str(numeros_ganadores))"
      ],
      "metadata": {
        "colab": {
          "base_uri": "https://localhost:8080/"
        },
        "id": "o7hQBFMDs6Kl",
        "outputId": "3dca1775-8284-4e38-e1d1-69ad1ad802d7"
      },
      "execution_count": null,
      "outputs": [
        {
          "output_type": "stream",
          "name": "stdout",
          "text": [
            "Ingrese la cantidad de numeros ganadores: 6\n",
            "\n",
            "Ingrese el numero ganador #1: 40\n",
            "Ingrese el numero ganador #2: 30\n",
            "Ingrese el numero ganador #3: 2\n",
            "Ingrese el numero ganador #4: 60\n",
            "Ingrese el numero ganador #5: 1\n",
            "Ingrese el numero ganador #6: 90\n",
            "Los numeros ganadores son: [1, 2, 30, 40, 60, 90]\n"
          ]
        }
      ]
    },
    {
      "cell_type": "markdown",
      "source": [
        "# ***Ejercicio 5***\n",
        "Escribir un programa que almacene en una lista los números del 1 al 10 y los muestre por pantalla en orden inverso separados por comas."
      ],
      "metadata": {
        "id": "yNbeDe0wOxm4"
      }
    },
    {
      "cell_type": "code",
      "source": [
        "lista = [1, 2, 3, 4, 5, 6, 7, 8, 9, 10]\n",
        "lista.reverse()\n",
        "print(f\"La lista inversa es: {lista}\")\n"
      ],
      "metadata": {
        "colab": {
          "base_uri": "https://localhost:8080/"
        },
        "id": "DW2HVqKz5aJf",
        "outputId": "f4ed18eb-0bfc-4a6f-e06f-df6f28a8181f"
      },
      "execution_count": null,
      "outputs": [
        {
          "output_type": "stream",
          "name": "stdout",
          "text": [
            "La lista inversa es: [10, 9, 8, 7, 6, 5, 4, 3, 2, 1]\n"
          ]
        }
      ]
    },
    {
      "cell_type": "markdown",
      "source": [
        "# ***Ejercicio 6***\n",
        "Escribir un programa que almacene las asignaturas de un curso (por ejemplo Matemáticas, Física, Química, Historia y Lengua) en una lista, pregunte al usuario la nota que ha sacado en cada asignatura y elimine de la lista las asignaturas aprobadas. Al final el programa debe mostrar por pantalla las asignaturas que el usuario tiene que repetir."
      ],
      "metadata": {
        "id": "PotEf1-PPApa"
      }
    },
    {
      "cell_type": "code",
      "source": [
        "# Con 3.0 o menos se pierde la asignatura\n",
        "asignaturas = [\"Matematicas\",\"Fisica\",\"Quimica\",\"Historia\",\"Lengua\"]\n",
        "reprovadas = []\n",
        "for x in asignaturas:\n",
        "  if (float(input(f\"Ingrese la nota obtenida en {x}: \"))) < 3.0:\n",
        "    reprovadas.append(x)\n",
        "print(f\"\\nLas materias que debe repetir son: {reprovadas}\")"
      ],
      "metadata": {
        "colab": {
          "base_uri": "https://localhost:8080/"
        },
        "id": "scVgqz2A_7og",
        "outputId": "4242ca59-d9dc-4103-e10a-6cb8be15b262"
      },
      "execution_count": null,
      "outputs": [
        {
          "output_type": "stream",
          "name": "stdout",
          "text": [
            "Ingrese la nota obtenida en Matematicas: 1.0\n",
            "Ingrese la nota obtenida en Fisica: 2.0\n",
            "Ingrese la nota obtenida en Quimica: 3.0\n",
            "Ingrese la nota obtenida en Historia: 4.0\n",
            "Ingrese la nota obtenida en Lengua: 5.0\n",
            "\n",
            "Las materias que debe repetir son: ['Matematicas', 'Fisica']\n"
          ]
        }
      ]
    },
    {
      "cell_type": "markdown",
      "source": [
        "# ***Ejercicio 7***\n",
        "Escribir un programa que almacene el abecedario en una lista, elimine de la lista las letras que ocupen posiciones múltiplos de 3, y muestre por pantalla la lista resultante."
      ],
      "metadata": {
        "id": "gVF8NBIUPo8i"
      }
    },
    {
      "cell_type": "code",
      "source": [
        "abecedario = ['a','b','c','d','e','f','g','h','i','j','k','l','m','n','ñ','o','p','q','r','s','t','u','v','w','x','y','z']\n",
        "for x in range(len(abecedario),1,-1):\n",
        "  if x%3 == 0:\n",
        "    abecedario.pop(x-1)\n",
        "print(abecedario)"
      ],
      "metadata": {
        "colab": {
          "base_uri": "https://localhost:8080/"
        },
        "id": "Xx_ZdbD3Jdoe",
        "outputId": "23bed8b1-749a-4ce1-b68f-1a4ed50f240c"
      },
      "execution_count": null,
      "outputs": [
        {
          "output_type": "stream",
          "name": "stdout",
          "text": [
            "['a', 'b', 'd', 'e', 'g', 'h', 'j', 'k', 'm', 'n', 'o', 'p', 'r', 's', 'u', 'v', 'x', 'y']\n"
          ]
        }
      ]
    },
    {
      "cell_type": "markdown",
      "source": [
        "# ***Ejercicio 8***\n",
        "Escribir un programa que pida al usuario una palabra y muestre por pantalla si es un palíndromo."
      ],
      "metadata": {
        "id": "u3__2HjFPu8U"
      }
    },
    {
      "cell_type": "code",
      "source": [
        "palabra = list(input(\"Ingrese una palabra: \"))\n",
        "palabra_invertida = list(palabra)\n",
        "palabra_invertida.reverse()\n",
        "if palabra == palabra_invertida:\n",
        "  print(\"Es palíndromo\")\n",
        "else:\n",
        "  print(\"No es palíndromo\")"
      ],
      "metadata": {
        "colab": {
          "base_uri": "https://localhost:8080/"
        },
        "id": "WIdBWKWG568K",
        "outputId": "07bcef42-100a-412d-dfb7-ec5eb49e353b"
      },
      "execution_count": 13,
      "outputs": [
        {
          "output_type": "stream",
          "name": "stdout",
          "text": [
            "Ingrese una palabra: aerea\n",
            "Es palíndromo\n"
          ]
        }
      ]
    },
    {
      "cell_type": "markdown",
      "source": [
        "# ***Ejercicio 9***\n",
        "Escribir un programa que pida al usuario una palabra y muestre por pantalla el número de veces que contiene cada vocal."
      ],
      "metadata": {
        "id": "6Q_fNipUPzoH"
      }
    },
    {
      "cell_type": "code",
      "source": [
        "palabra = list(input(\"Ingrese una palabra: \"))\n",
        "vocales = ['a','e','i','o','u']\n",
        "for vocal in vocales:\n",
        "  cantidad = 0\n",
        "  for letra in palabra:\n",
        "    if vocal == letra:\n",
        "      cantidad += 1\n",
        "  print(f\"La cantidad de veces que aparece la vocal '{vocal}' es: {cantidad}\")  "
      ],
      "metadata": {
        "colab": {
          "base_uri": "https://localhost:8080/"
        },
        "id": "9P4PBxiJ-oYu",
        "outputId": "6699c51d-48b8-4790-9b15-d84296b75ce3"
      },
      "execution_count": 32,
      "outputs": [
        {
          "output_type": "stream",
          "name": "stdout",
          "text": [
            "Ingrese una palabra: murcielago\n",
            "La cantidad de veces que aparece la vocal 'a' es: 1\n",
            "La cantidad de veces que aparece la vocal 'e' es: 1\n",
            "La cantidad de veces que aparece la vocal 'i' es: 1\n",
            "La cantidad de veces que aparece la vocal 'o' es: 1\n",
            "La cantidad de veces que aparece la vocal 'u' es: 1\n"
          ]
        }
      ]
    },
    {
      "cell_type": "markdown",
      "source": [
        "# ***Ejercicio 10***\n",
        "Escribir un programa que almacene en una lista los siguientes precios, 50, 75, 46, 22, 80, 65, 8, y muestre por pantalla el menor y el mayor de los precios."
      ],
      "metadata": {
        "id": "JZFWtF8hP3Ll"
      }
    },
    {
      "cell_type": "code",
      "source": [
        "precios = [50, 75, 46, 22, 80, 65, 8]\n",
        "print(f\"El valor minimo es: {min(precios)}\")\n",
        "print(f\"El valor maximo es: {max(precios)}\")"
      ],
      "metadata": {
        "colab": {
          "base_uri": "https://localhost:8080/"
        },
        "id": "e3aM_e7nC7aN",
        "outputId": "069e8c93-bca4-4549-f0b4-c1ebbc2db80e"
      },
      "execution_count": 40,
      "outputs": [
        {
          "output_type": "stream",
          "name": "stdout",
          "text": [
            "El valor minimo es: 8\n",
            "El valor maximo es: 80\n"
          ]
        }
      ]
    },
    {
      "cell_type": "markdown",
      "source": [
        "# ***Ejercicio 11***\n",
        "Escribir un programa que almacene los vectores (1,2,3) y (-1,0,2) en dos listas y muestre por pantalla su producto escalar."
      ],
      "metadata": {
        "id": "smowmOwyP9FQ"
      }
    },
    {
      "cell_type": "code",
      "source": [
        "import numpy as np\n",
        "vector1 = [1,2,3]\n",
        "vector2 = [-1,0,2]\n",
        "print(f\"El producto escalar de {vector1} entre {vector2} = {np.dot(vector1,vector2)}\")"
      ],
      "metadata": {
        "colab": {
          "base_uri": "https://localhost:8080/"
        },
        "id": "2EM39unMDm8E",
        "outputId": "e828ba10-aa94-46d0-8389-d29f88bfbfc1"
      },
      "execution_count": 44,
      "outputs": [
        {
          "output_type": "stream",
          "name": "stdout",
          "text": [
            "El producto escalar de [1, 2, 3] entre [-1, 0, 2] = 5\n"
          ]
        }
      ]
    },
    {
      "cell_type": "markdown",
      "source": [
        "# ***Ejercicio 12***\n",
        "Escribir un programa que almacene las matrices\n",
        "\n",
        "$\n",
        "A = \\begin{pmatrix}\n",
        "1 & 2 & 3 \\\\\n",
        "4 & 5 & 6 \\\\\n",
        "\\end{pmatrix}\n",
        "\\quad y \\quad \n",
        "B =  \\begin{pmatrix}\n",
        "-1 & 0 \\\\\n",
        "0 & 1 \\\\\n",
        "1 & 1 \\\\\n",
        "\\end{pmatrix}\n",
        "$\n",
        "\n",
        "en una lista y muestre por pantalla su producto.\n",
        "Nota: Para representar matrices mediante listas usar listas anidadas, representando cada vector fila en una lista.\n",
        "\n"
      ],
      "metadata": {
        "id": "cigc1Qp0QBIm"
      }
    },
    {
      "cell_type": "code",
      "source": [
        "import numpy as np\n",
        "A = [[1,2,3] , [4,5,6]]\n",
        "B = [[-1,0] , [0,1] , [1,1]]\n",
        "print(\"La multiplicacion de matrices da como resultado : \")\n",
        "np.matmul(A,B)"
      ],
      "metadata": {
        "colab": {
          "base_uri": "https://localhost:8080/"
        },
        "id": "5MgkwfQ-GGKn",
        "outputId": "da11b674-c54d-44a8-d31d-c6d387e7f9d5"
      },
      "execution_count": 53,
      "outputs": [
        {
          "output_type": "stream",
          "name": "stdout",
          "text": [
            "La multiplicacion de matrices da como resultado : \n"
          ]
        },
        {
          "output_type": "execute_result",
          "data": {
            "text/plain": [
              "array([[ 2,  5],\n",
              "       [ 2, 11]])"
            ]
          },
          "metadata": {},
          "execution_count": 53
        }
      ]
    },
    {
      "cell_type": "markdown",
      "source": [
        "# ***Ejercicio 13***\n",
        "Escribir un programa que pregunte por una muestra de números, separados por comas, los guarde en una lista y muestre por pantalla su media y desviación típica."
      ],
      "metadata": {
        "id": "zcujHb1lQui0"
      }
    },
    {
      "cell_type": "code",
      "source": [
        "import numpy as np\n",
        "muestra_numeros = list(map(int,input(\"Ingrese una lista de numeros separados por comas (,): \").replace(\",\",\"\")))\n",
        "print(f\"La media es : {np.mean(muestra_numeros)}\")\n",
        "print(f\"La desviación estandar es: {np.std(muestra_numeros)}\")"
      ],
      "metadata": {
        "colab": {
          "base_uri": "https://localhost:8080/"
        },
        "id": "T7_qjU-RHQJx",
        "outputId": "12eb0c0f-caf4-4e50-8e8e-21b1803a3d8b"
      },
      "execution_count": 71,
      "outputs": [
        {
          "output_type": "stream",
          "name": "stdout",
          "text": [
            "Ingrese una lista de numeros separados por comas (,): 1,2,3,4,5\n",
            "La media es : 3.0\n",
            "La desviación estandar es: 1.4142135623730951\n"
          ]
        }
      ]
    },
    {
      "cell_type": "code",
      "source": [
        ""
      ],
      "metadata": {
        "id": "qyZRI6piKpaH"
      },
      "execution_count": null,
      "outputs": []
    }
  ]
}