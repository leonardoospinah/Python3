{
  "nbformat": 4,
  "nbformat_minor": 0,
  "metadata": {
    "colab": {
      "name": "Python_for_beginners(Code_Projects).ipynb",
      "provenance": [],
      "authorship_tag": "ABX9TyMBt1cD4FHTOgW0bYOYGlBO",
      "include_colab_link": true
    },
    "kernelspec": {
      "name": "python3",
      "display_name": "Python 3"
    },
    "language_info": {
      "name": "python"
    }
  },
  "cells": [
    {
      "cell_type": "markdown",
      "metadata": {
        "id": "view-in-github",
        "colab_type": "text"
      },
      "source": [
        "<a href=\"https://colab.research.google.com/github/leonardoospinah/Python3/blob/main/Python_for_beginners(Code_Projects).ipynb\" target=\"_parent\"><img src=\"https://colab.research.google.com/assets/colab-badge.svg\" alt=\"Open In Colab\"/></a>"
      ]
    },
    {
      "cell_type": "markdown",
      "source": [
        "#**Conceptos basicos**\n",
        "\n",
        "### *Tiempo de vuelo*\n",
        "\n",
        "Necesita calcular el tiempo de vuelo de un próximo viaje. Usted va a volar de Los Ángeles a Sydney, cubriendo una distancia de **7425** millas, el avión vuela a una velocidad media de **550** millas por hora.\n",
        "\n",
        "Calcule y obtenga el tiempo total de vuelo en horas.\n",
        "\n",
        "**Sugerencia**\n",
        "El resultado debe ser un float.\n",
        "\n",
        "`Utiliza la sentencia print para mostrar el resultado.`"
      ],
      "metadata": {
        "id": "koXtRLuk_1lg"
      }
    },
    {
      "cell_type": "code",
      "execution_count": 1,
      "metadata": {
        "colab": {
          "base_uri": "https://localhost:8080/"
        },
        "id": "ijBB9Xyu9Mqy",
        "outputId": "042669a4-3a1b-4c6c-cbac-742da12a608d"
      },
      "outputs": [
        {
          "output_type": "stream",
          "name": "stdout",
          "text": [
            "El tiempo de vuelo requerido de L.A a Sydney es: 13.5\n"
          ]
        }
      ],
      "source": [
        "print(f\"El tiempo de vuelo requerido de L.A a Sydney es: {7425/550}\")"
      ]
    },
    {
      "cell_type": "markdown",
      "source": [
        "# **Strings**\n",
        "### *Tabla de posiciones*\n",
        "\n",
        "Necesitas hacer un programa para una tabla de clasificación.\n",
        "El programa tiene que dar salida a los números del 1 al 9, cada uno en una línea separada, seguido de un punto:\n",
        "\n",
        "1.\n",
        "\n",
        "2.\n",
        "\n",
        "3.\n",
        "\n",
        "...\n",
        "\n",
        "`Puede utilizar \\n el carácter de nueva línea para crear saltos de línea, o, alternativamente, crear la salida deseada utilizando tres comillas dobles \"\"\".`"
      ],
      "metadata": {
        "id": "26PqvEwABKwV"
      }
    },
    {
      "cell_type": "code",
      "source": [
        "for x in range(1,10):\n",
        "  print(f\"{x}.\")"
      ],
      "metadata": {
        "colab": {
          "base_uri": "https://localhost:8080/"
        },
        "id": "VkXsn1InA-Qj",
        "outputId": "85a19eec-eb8e-43a5-ad9d-efb7cd427c31"
      },
      "execution_count": 3,
      "outputs": [
        {
          "output_type": "stream",
          "name": "stdout",
          "text": [
            "1.\n",
            "2.\n",
            "3.\n",
            "4.\n",
            "5.\n",
            "6.\n",
            "7.\n",
            "8.\n",
            "9.\n"
          ]
        }
      ]
    },
    {
      "cell_type": "markdown",
      "source": [
        "# **Variables**\n",
        "\n",
        "### *Calculadora de propinas*\n",
        "\n",
        "Cuando sales a comer fuera, siempre dejas el 20% del importe de la cuenta. Pero, ¿quién tiene tiempo para calcular la cantidad correcta de propina cada vez? Seguro que tú no. Estás creando un programa para calcular las propinas y ahorrar tiempo.\n",
        "\n",
        "Tu programa necesita tomar el monto de la cuenta como entrada y dar como salida la propina como un **float**.\n",
        "\n",
        "**Ejemplo de entrada**\n",
        "\n",
        "50\n",
        "\n",
        "**Ejemplo de salida**\n",
        "\n",
        "10.0\n",
        "\n",
        "```\n",
        "Explicación: el 20% de 50 es 10.\n",
        "Para calcular el 20% de una cantidad determinada, puedes multiplicar el número por 20 y dividirlo por 100: 50*20/100 = 10,0\n",
        "\n",
        "```"
      ],
      "metadata": {
        "id": "EsiRyK27C2vj"
      }
    },
    {
      "cell_type": "code",
      "source": [
        "monto = float(input(\"Ingrese el monto de la cuenta: \"))\n",
        "print(f\"La propina es de: {(monto/100)*20}\")"
      ],
      "metadata": {
        "colab": {
          "base_uri": "https://localhost:8080/"
        },
        "id": "u7rE17CyCTz2",
        "outputId": "61189f79-6141-4339-8d61-a2981fc2a304"
      },
      "execution_count": 5,
      "outputs": [
        {
          "output_type": "stream",
          "name": "stdout",
          "text": [
            "Ingrese el monto de la cuenta: 268\n",
            "La propina es de: 53.6\n"
          ]
        }
      ]
    },
    {
      "cell_type": "markdown",
      "source": [
        "# **Flujo de control**\n",
        "\n",
        "### *Calculadora de IMC*\n",
        "\n",
        "El seguimiento del IMC es una forma útil de comprobar si se mantiene un peso saludable. Se calcula a partir del peso y la altura de una persona, utilizando esta fórmula: **peso / altura².**\n",
        "\n",
        "El número resultante indica una de las siguientes categorías:\n",
        "\n",
        "**Bajo peso** = menos de 18,5\n",
        "\n",
        "**Normal** = más o igual a 18,5 y menos de 25\n",
        "\n",
        "**Sobrepeso** = más o igual a 25 y menos de 30\n",
        "\n",
        "**Obesidad** = 30 o más\n",
        "\n",
        "Hagamos que averiguar su IMC sea más rápido y fácil, creando un programa que tome el peso y la altura de una persona como entrada y produzca la categoría de IMC correspondiente.\n",
        "\n",
        "**Ejemplo de entrada**\n",
        "\n",
        "85\n",
        "1.9\n",
        "\n",
        "**Ejemplo de salida**\n",
        "\n",
        "Normal\n",
        "\n",
        "\n",
        "\n",
        "```\n",
        "El peso está en kg, la altura está en metros.\n",
        "Tenga en cuenta que la altura es un float.\n",
        "```\n",
        "\n"
      ],
      "metadata": {
        "id": "nTyN0xOXE3rw"
      }
    },
    {
      "cell_type": "code",
      "source": [
        "altura = float(input(\"Ingrese su altura en metros (m): \"))\n",
        "peso = float(input(\"Ingrese su peso en kilogramos (kg): \"))\n",
        "imc = (peso)/(altura**2)\n",
        "if imc < 18.5:\n",
        "  print(\"Su IMC indica que tiene bajo peso\")\n",
        "elif imc < 25:\n",
        "  print(\"Su IMC indica que tiene peso normal\")\n",
        "elif imc < 30:\n",
        "  print(\"Su IMC indica que tiene sobrepeso\")\n",
        "else:\n",
        "  print(\"Su IMC indica que tiene obesidad\")"
      ],
      "metadata": {
        "id": "IhmQwVwXEuaK"
      },
      "execution_count": null,
      "outputs": []
    },
    {
      "cell_type": "markdown",
      "source": [
        "# **Listas**\n",
        "\n",
        "### *Suma de numeros consecutivos*\n",
        "\n",
        "A nadie le gustan los deberes, pero tu profesor de matemáticas te ha encomendado encontrar la suma de los primeros N números.\n",
        "\n",
        "Ahorremos algo de tiempo creando un programa que haga el cálculo por ti.\n",
        "\n",
        "Tome un número N como entrada y obtenga la suma de todos los números del 1 al N (incluyendo N).\n",
        "\n",
        "**Ejemplo de entrada**\n",
        "\n",
        "100\n",
        "\n",
        "**Muestra de salida**\n",
        "\n",
        "5050\n",
        "\n",
        "**Explicación:** La suma de todos los números del 1 al 100 es igual a 5050.\n",
        "\n",
        "\n",
        "\n",
        "```\n",
        "Puedes iterar sobre un rango y calcular la suma de todos los números del rango.\n",
        "Recuerda que range(a, b) no incluye a b, por lo que necesitas usar b+1 para incluir a b en el rango.\n",
        "```\n",
        "\n",
        "\n",
        "\n"
      ],
      "metadata": {
        "id": "dhu1dHpTJVVS"
      }
    },
    {
      "cell_type": "code",
      "source": [
        "numero = int(input(\"Ingrese un numero entero: \"))\n",
        "suma = 0\n",
        "for n in range(1,numero+1):\n",
        "  suma += n\n",
        "print(f\"La suma del 1 hasta {numero} = {suma}\")"
      ],
      "metadata": {
        "colab": {
          "base_uri": "https://localhost:8080/"
        },
        "id": "9JUIcBHeJ_W5",
        "outputId": "cba37125-347c-4b49-ff6c-16df60db6f9d"
      },
      "execution_count": 9,
      "outputs": [
        {
          "output_type": "stream",
          "name": "stdout",
          "text": [
            "Ingrese un numero entero: 100\n",
            "La suma del 1 hasta 100 = 5050\n"
          ]
        }
      ]
    },
    {
      "cell_type": "markdown",
      "source": [
        "# **Funciones**\n",
        "\n",
        "### *Motor de busqueda*\n",
        "\n",
        "Estás trabajando en un motor de búsqueda. ¡Vigila tu espalda Google!\n",
        "\n",
        "El código dado toma un **texto** y una **palabra** como entrada y los pasa a una función llamada **search().**\n",
        "\n",
        "La función search() debe devolver \"Palabra encontrada\" si la palabra está presente en el texto, o \"Palabra no encontrada\", si no lo está.\n",
        "\n",
        "**Ejemplo de entrada**\n",
        "\n",
        "\"Esto es impresionante\"\n",
        "\n",
        "\"impresionante\"\n",
        "\n",
        "**Ejemplo de salida**\n",
        "Palabra encontrada\n",
        "\n",
        "```\n",
        "Defina la función search() para que el código dado funcione como se espera.\n",
        "```\n",
        "\n"
      ],
      "metadata": {
        "id": "lHl_E9khMMrE"
      }
    },
    {
      "cell_type": "code",
      "source": [
        "def search(text,word):\n",
        "  if word in text:\n",
        "    print(\"Palabra encontrada\")\n",
        "  else:\n",
        "    print(\"Palabra no encontrada\")\n",
        "\n",
        "texto = input(\"Ingrese el texto: \")\n",
        "palabra = input(\"Ingrese la palabra a buscar en el texto: \")\n",
        "search(texto,palabra)"
      ],
      "metadata": {
        "colab": {
          "base_uri": "https://localhost:8080/"
        },
        "id": "v56wLptYNI5w",
        "outputId": "146b84de-424a-4533-d19f-e822c1fdbcd6"
      },
      "execution_count": 11,
      "outputs": [
        {
          "output_type": "stream",
          "name": "stdout",
          "text": [
            "Ingrese el texto: this is some sample text\n",
            "Ingrese la palabra a buscar en el texto: some\n",
            "Palabra encontrada\n"
          ]
        }
      ]
    }
  ]
}
