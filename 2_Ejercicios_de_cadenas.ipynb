{
  "nbformat": 4,
  "nbformat_minor": 0,
  "metadata": {
    "colab": {
      "name": "2_Ejercicios_de_cadenas.ipynb",
      "provenance": [],
      "authorship_tag": "ABX9TyPgnDP/XnuZ3nD0pfAk1jUz",
      "include_colab_link": true
    },
    "kernelspec": {
      "name": "python3",
      "display_name": "Python 3"
    },
    "language_info": {
      "name": "python"
    }
  },
  "cells": [
    {
      "cell_type": "markdown",
      "metadata": {
        "id": "view-in-github",
        "colab_type": "text"
      },
      "source": [
        "<a href=\"https://colab.research.google.com/github/leonardoospinah/Python3/blob/main/2_Ejercicios_de_cadenas.ipynb\" target=\"_parent\"><img src=\"https://colab.research.google.com/assets/colab-badge.svg\" alt=\"Open In Colab\"/></a>"
      ]
    },
    {
      "cell_type": "markdown",
      "source": [
        "# ***Ejercicio 1***\n",
        "Escribir un programa que pregunte el nombre del usuario en la consola y un número entero e imprima por pantalla en líneas distintas el nombre del usuario tantas veces como el número introducido."
      ],
      "metadata": {
        "id": "o-m44GPE9d_S"
      }
    },
    {
      "cell_type": "code",
      "source": [
        "nombre = input(\"Ingrese su nombre: \")\n",
        "numero = int(input(\"Ingrese un numero entero: \"))\n",
        "for x in range(numero):\n",
        "  print(nombre)"
      ],
      "metadata": {
        "colab": {
          "base_uri": "https://localhost:8080/"
        },
        "id": "2AovSpg8-z3L",
        "outputId": "227ba684-dae6-4b69-8f0d-8dc8137f0489"
      },
      "execution_count": null,
      "outputs": [
        {
          "output_type": "stream",
          "name": "stdout",
          "text": [
            "Ingrese su nombre: Leonardo\n",
            "Ingrese un numero entero: 3\n",
            "Leonardo\n",
            "Leonardo\n",
            "Leonardo\n"
          ]
        }
      ]
    },
    {
      "cell_type": "markdown",
      "source": [
        "# ***Ejercicio 2***\n",
        "Escribir un programa que pregunte el nombre completo del usuario en la consola y después muestre por pantalla el nombre completo del usuario tres veces, una con todas las letras minúsculas, otra con todas las letras mayúsculas y otra solo con la primera letra del nombre y de los apellidos en mayúscula. El usuario puede introducir su nombre combinando mayúsculas y minúsculas como quiera."
      ],
      "metadata": {
        "id": "21TAe-FA9k1u"
      }
    },
    {
      "cell_type": "code",
      "source": [
        "nombre_completo = input(\"Ingrese su nombre completo: \")\n",
        "print(nombre_completo.upper())\n",
        "print(nombre_completo.lower())\n",
        "print(nombre_completo.title())"
      ],
      "metadata": {
        "colab": {
          "base_uri": "https://localhost:8080/"
        },
        "id": "c38QeMva_a7u",
        "outputId": "3eb933dc-444a-415c-9821-6ed51e32ae86"
      },
      "execution_count": null,
      "outputs": [
        {
          "output_type": "stream",
          "name": "stdout",
          "text": [
            "Ingrese su nombre completo: LeonarDO OSPIna HERNandez\n",
            "LEONARDO OSPINA HERNANDEZ\n",
            "leonardo ospina hernandez\n",
            "Leonardo Ospina Hernandez\n"
          ]
        }
      ]
    },
    {
      "cell_type": "markdown",
      "source": [
        "# ***Ejercicio 3***\n",
        "Escribir un programa que pregunte el nombre del usuario en la consola y después de que el usuario lo introduzca muestre por pantalla `<NOMBRE> tiene <n> letras`, donde `<NOMBRE>` es el nombre de usuario en mayúsculas y `<n>` es el número de letras que tienen el nombre."
      ],
      "metadata": {
        "id": "FjvRP9Af9mpA"
      }
    },
    {
      "cell_type": "code",
      "source": [
        "nombre_conteo = int(len(input(\"Ingrese su nombre: \")))\n",
        "print(f\"El nombre tiene un total de {nombre_conteo} letras\")"
      ],
      "metadata": {
        "colab": {
          "base_uri": "https://localhost:8080/"
        },
        "id": "QZUZKTkKAbNC",
        "outputId": "77f36cb5-f155-47c3-fad6-f7a243e60422"
      },
      "execution_count": null,
      "outputs": [
        {
          "output_type": "stream",
          "name": "stdout",
          "text": [
            "Ingrese su nombre: Leonardo\n",
            "El nombre tiene un total de 8 letras\n"
          ]
        }
      ]
    },
    {
      "cell_type": "markdown",
      "source": [
        "# ***Ejercicio 4***\n",
        "Los teléfonos de una empresa tienen el siguiente formato `prefijo-número-extension` donde el prefijo es el código del país `+34`, y la extensión tiene dos dígitos (por ejemplo `+34-913724710-56`). Escribir un programa que pregunte por un número de teléfono con este formato y muestre por pantalla el número de teléfono sin el prefijo y la extensión.\n",
        "\n",
        "\n"
      ],
      "metadata": {
        "id": "SAv57dqX9ny2"
      }
    },
    {
      "cell_type": "code",
      "source": [
        "numero_telefono = input(\"Ingrese el numero de telefono con prefijo y extension: \")\n",
        "print(f\"El numero de telefono es: {numero_telefono[4:13]}\")"
      ],
      "metadata": {
        "colab": {
          "base_uri": "https://localhost:8080/"
        },
        "id": "hNDNs05QBqMu",
        "outputId": "72e1b2a2-baea-4452-c501-f655c161d9f7"
      },
      "execution_count": null,
      "outputs": [
        {
          "output_type": "stream",
          "name": "stdout",
          "text": [
            "Ingrese el numero de telefono con prefijo y extension: +34-913724710-56\n",
            "El numero de telefono es: 913724710\n"
          ]
        }
      ]
    },
    {
      "cell_type": "markdown",
      "source": [
        "# ***Ejercicio 5***\n",
        "Escribir un programa que pida al usuario que introduzca una frase en la consola y muestre por pantalla la frase invertida."
      ],
      "metadata": {
        "id": "NaLVQsbJ9pIk"
      }
    },
    {
      "cell_type": "code",
      "source": [
        "frase = input(\"Ingrese una frase: \")\n",
        "print(f\"Su frase al revés es: {frase[::-1]}\")"
      ],
      "metadata": {
        "colab": {
          "base_uri": "https://localhost:8080/"
        },
        "id": "0cXO1v2FCwxs",
        "outputId": "02dd0322-331d-4446-8386-de1e06ffa039"
      },
      "execution_count": null,
      "outputs": [
        {
          "output_type": "stream",
          "name": "stdout",
          "text": [
            "Ingrese una frase: Hola, esta frase se pondra al revés\n",
            "Su frase al revés es: séver la ardnop es esarf atse ,aloH\n"
          ]
        }
      ]
    },
    {
      "cell_type": "markdown",
      "source": [
        "# ***Ejercicio 6***\n",
        "Escribir un programa que pida al usuario que introduzca una frase en la consola y una vocal, y después muestre por pantalla la misma frase pero con la vocal introducida en mayúscula."
      ],
      "metadata": {
        "id": "LqgZhQl59qno"
      }
    },
    {
      "cell_type": "code",
      "source": [
        "frase_con_vocal = input(\"Ingrese una frase: \")\n",
        "vocal = input(\"Ingrese una vocal: \")\n",
        "print(frase_con_vocal.replace(vocal, vocal.upper()))"
      ],
      "metadata": {
        "colab": {
          "base_uri": "https://localhost:8080/"
        },
        "id": "MQHrsR6xEJg0",
        "outputId": "6f0ed092-83f7-44e0-de4d-22aa9b5075eb"
      },
      "execution_count": null,
      "outputs": [
        {
          "output_type": "stream",
          "name": "stdout",
          "text": [
            "Ingrese una frase: No se que es esto\n",
            "Ingrese una vocal: o\n",
            "NO se que es estO\n"
          ]
        }
      ]
    },
    {
      "cell_type": "markdown",
      "source": [
        "# ***Ejercicio 7***\n",
        "Escribir un programa que pregunte el correo electrónico del usuario en la consola y muestre por pantalla otro correo electrónico con el mismo nombre (la parte delante de la arroba @) pero con dominio ceu.es"
      ],
      "metadata": {
        "id": "bKm2TNgF9t4S"
      }
    },
    {
      "cell_type": "code",
      "source": [
        "correo = input(\"Ingrese su correo electronico: \")\n",
        "print(f\"El nuevo dominio es: {correo[:correo.find('@')] + '@ceu.es'}\")"
      ],
      "metadata": {
        "colab": {
          "base_uri": "https://localhost:8080/"
        },
        "id": "7YVBdbEbFnJJ",
        "outputId": "c82221b1-d47e-47b7-ae9b-72d84a5d8375"
      },
      "execution_count": null,
      "outputs": [
        {
          "output_type": "stream",
          "name": "stdout",
          "text": [
            "Ingrese su correo electronico: Leonardo@gmail.com\n",
            "El nuevo dominio es: Leonardo@ceu.es\n"
          ]
        }
      ]
    },
    {
      "cell_type": "markdown",
      "source": [
        "# ***Ejercicio 8***\n",
        "Escribir un programa que pregunte por consola el precio de un producto en euros con dos decimales y muestre por pantalla el número de euros y el número de céntimos del precio introducido."
      ],
      "metadata": {
        "id": "qHpWo6UY9yEP"
      }
    },
    {
      "cell_type": "code",
      "source": [
        "precio = input(\"Ingrese el valor del producto: \")\n",
        "euros = precio[:precio.find(\".\")]\n",
        "centavos = precio[int(precio.find(\".\")+1):]\n",
        "print(f\"Son {euros} euros con {centavos} centavos\")"
      ],
      "metadata": {
        "colab": {
          "base_uri": "https://localhost:8080/"
        },
        "id": "25NiJY_lJYLt",
        "outputId": "f4e7758e-16dc-497a-c265-85af9e018579"
      },
      "execution_count": null,
      "outputs": [
        {
          "output_type": "stream",
          "name": "stdout",
          "text": [
            "Ingrese el valor del producto: 300.56\n",
            "Son 300 euros con 56 centavos\n"
          ]
        }
      ]
    },
    {
      "cell_type": "markdown",
      "source": [
        "# ***Ejercicio 9***\n",
        "Escribir un programa que pregunte al usuario la fecha de su nacimiento en formato `dd/mm/aaaa` y muestra por pantalla, el día, el mes y el año. Adaptar el programa anterior para que también funcione cuando el día o el mes se introduzcan con un solo carácter."
      ],
      "metadata": {
        "id": "ispKnM_A9zo6"
      }
    },
    {
      "cell_type": "code",
      "source": [
        "fecha_nacimiento = input(\"Ingrese su fecha de nacimiento (dd/mm/aaaa): \")\n",
        "dia = fecha_nacimiento[:fecha_nacimiento.find(\"/\")]\n",
        "mes_año = fecha_nacimiento[fecha_nacimiento.find(\"/\")+1:]\n",
        "mes = mes_año[:mes_año.find(\"/\")]\n",
        "año = mes_año[mes_año.find(\"/\")+1:]\n",
        "print(f\"Es el dia {100} del mes {mes} del año {año}\")"
      ],
      "metadata": {
        "colab": {
          "base_uri": "https://localhost:8080/"
        },
        "id": "hsjsE3OaNAAB",
        "outputId": "f6d25b5c-d3a8-4c65-9972-b4302451e530"
      },
      "execution_count": 27,
      "outputs": [
        {
          "output_type": "stream",
          "name": "stdout",
          "text": [
            "Ingrese su fecha de nacimiento (dd/mm/aaaa): 100/200/300\n",
            "Es el dia 100 del mes 200 del año 300\n"
          ]
        }
      ]
    },
    {
      "cell_type": "markdown",
      "source": [
        "# ***Ejercicio 10***\n",
        "Escribir un programa que pregunte por consola por los productos de una cesta de la compra, separados por comas, y muestre por pantalla cada uno de los productos en una línea distinta."
      ],
      "metadata": {
        "id": "htbmBXBG91K_"
      }
    },
    {
      "cell_type": "code",
      "source": [
        "compra = input(\"Ingrese los productos separados por comas (,): \")\n",
        "print(compra.replace(',','\\n'))"
      ],
      "metadata": {
        "colab": {
          "base_uri": "https://localhost:8080/"
        },
        "id": "9Wl-3zrRqsU2",
        "outputId": "8383c164-0216-4748-de28-19ddc09dd33b"
      },
      "execution_count": 28,
      "outputs": [
        {
          "output_type": "stream",
          "name": "stdout",
          "text": [
            "Ingrese los productos separados por comas (,): arroz,huevos,xd\n",
            "arroz\n",
            "huevos\n",
            "xd\n"
          ]
        }
      ]
    },
    {
      "cell_type": "markdown",
      "source": [
        "# ***Ejercicio 11***\n",
        "Escribir un programa que pregunte el nombre el un producto, su precio y un número de unidades y muestre por pantalla una cadena con el nombre del producto seguido de su precio unitario con 6 dígitos enteros y 2 decimales, el número de unidades con tres dígitos y el coste total con 8 dígitos enteros y 2 decimales."
      ],
      "metadata": {
        "id": "y2YUsu1s92ww"
      }
    },
    {
      "cell_type": "code",
      "source": [
        "nombre_producto = input(\"Ingrese el nombre del producto: \")\n",
        "precio = float(input(\"Ingrese el precio: \"))\n",
        "unidades = int(input(\"Ingrese la cantidad: \"))\n",
        "print(f\"{nombre_producto} {round(precio,2)}c/u {unidades}unidades = {round((precio*unidades),2)}$\")"
      ],
      "metadata": {
        "colab": {
          "base_uri": "https://localhost:8080/"
        },
        "id": "LBDlnGiVrJHu",
        "outputId": "5c455824-8d02-43ac-9b24-345ad7f6da59"
      },
      "execution_count": 31,
      "outputs": [
        {
          "output_type": "stream",
          "name": "stdout",
          "text": [
            "Ingrese el nombre del producto: Libra arroz\n",
            "Ingrese el precio: 2300\n",
            "Ingrese la cantidad: 150\n",
            "Libra arroz 2300.0c/u 150unidades = 345000.0$\n"
          ]
        }
      ]
    },
    {
      "cell_type": "code",
      "source": [
        ""
      ],
      "metadata": {
        "id": "ACvdjLkwsbV-"
      },
      "execution_count": null,
      "outputs": []
    }
  ]
}